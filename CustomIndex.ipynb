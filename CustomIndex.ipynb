{
 "cells": [
  {
   "metadata": {
    "ExecuteTime": {
     "end_time": "2025-01-23T15:54:21.306621Z",
     "start_time": "2025-01-23T15:54:21.293454Z"
    }
   },
   "cell_type": "code",
   "source": [
    "from sklearn.preprocessing import StandardScaler\n",
    "from sklearn.decomposition import PCA\n",
    "import pandas as pd\n",
    "import numpy as np\n",
    "import matplotlib.pyplot as plt\n",
    "import rasterio\n",
    "from rasterio.transform import from_origin\n",
    "from affine import Affine"
   ],
   "id": "5c9e5396b0f62454",
   "outputs": [],
   "execution_count": 67
  },
  {
   "metadata": {},
   "cell_type": "markdown",
   "source": "# Creation of PCA Model and Determining Number of Components",
   "id": "134e011d1b3bc2e3"
  },
  {
   "metadata": {
    "ExecuteTime": {
     "end_time": "2025-01-23T15:54:21.319056Z",
     "start_time": "2025-01-23T15:54:21.312862Z"
    }
   },
   "cell_type": "code",
   "source": [
    "def process_greenspace_path(ndvi_path, aqi_path, soil_moisture_path, land_temp_path):\n",
    "    \"\"\"\n",
    "    Function to process and merge all path data per greenspace\n",
    "\n",
    "    :param ndvi_path: Path to NDVI data\n",
    "    :param aqi_path: Path to AQI data\n",
    "    :param soil_moisture_path: Path to soil moisture data\n",
    "    :param land_temp_path: Path to land temperature data\n",
    "    :return:\n",
    "    \"\"\"\n",
    "\n",
    "    ndvi_data = pd.read_csv(ndvi_path)\n",
    "    aqi_data = pd.read_csv(aqi_path)\n",
    "    soil_moisture_data = pd.read_csv(soil_moisture_path)\n",
    "    land_temp_data = pd.read_csv(land_temp_path)\n",
    "\n",
    "    # First merge AQI and NDVI data frames\n",
    "    aqi_ndvi_merge = pd.merge(ndvi_data, aqi_data, left_index=True, right_index=True, how=\"inner\")\n",
    "\n",
    "    # Drop missing values\n",
    "    cleaned_aqi_ndvi_merge = aqi_ndvi_merge.copy().dropna()\n",
    "\n",
    "    # Combine coordinate and date columns\n",
    "    cleaned_aqi_ndvi_merge.loc[:, 'Date'] = cleaned_aqi_ndvi_merge['Date_x'].combine_first(cleaned_aqi_ndvi_merge['Date_y'])\n",
    "    cleaned_aqi_ndvi_merge.loc[:, 'Coordinates'] = cleaned_aqi_ndvi_merge['Coordinates_x'].combine_first(cleaned_aqi_ndvi_merge['Coordinates_y'])\n",
    "\n",
    "    # Drop redundant columns\n",
    "    cleaned_aqi_ndvi_merge.drop(columns=['Date_x', 'Date_y', 'Coordinates_x', 'Coordinates_y'], inplace=True)\n",
    "\n",
    "    # Rename Value columns to NDVI and AQI\n",
    "    cleaned_aqi_ndvi_merge.rename(columns={'Value_x': 'NDVI', 'Value_y': 'AQI'}, inplace=True)\n",
    "\n",
    "    # Merge soil moisture and land temp dataframes\n",
    "    soil_moisture_land_temp_merge = pd.merge(soil_moisture_data, land_temp_data, left_index=True, right_index=True, how=\"inner\")\n",
    "\n",
    "    # Drop missing values\n",
    "    cleaned_soil_moisture_land_temp_merge = soil_moisture_land_temp_merge.copy().dropna()\n",
    "\n",
    "    # Combine coordinate and date columns\n",
    "    cleaned_soil_moisture_land_temp_merge.loc[:, 'Date'] = cleaned_soil_moisture_land_temp_merge['Date_x'].combine_first(cleaned_soil_moisture_land_temp_merge['Date_y'])\n",
    "    cleaned_soil_moisture_land_temp_merge.loc[:, 'Coordinates'] = cleaned_soil_moisture_land_temp_merge['Coordinates_x'].combine_first(cleaned_soil_moisture_land_temp_merge['Coordinates_y'])\n",
    "\n",
    "    # Drop redundant columns\n",
    "    cleaned_soil_moisture_land_temp_merge.drop(columns=['Date_x', 'Date_y', 'Coordinates_x', 'Coordinates_y'], inplace=True)\n",
    "\n",
    "    # Rename Value columns to NDVI and AQI\n",
    "    cleaned_soil_moisture_land_temp_merge.rename(columns={'Value_x': 'Soil_Moisture', 'Value_y': 'Land_Temp'}, inplace=True)\n",
    "\n",
    "    # Merge two dataframes together\n",
    "    final_merged_data = pd.merge(cleaned_aqi_ndvi_merge, cleaned_soil_moisture_land_temp_merge, left_index=True, right_index=True, how=\"inner\")\n",
    "\n",
    "    # Drop missing values\n",
    "    cleaned_final_merged = final_merged_data.copy().dropna()\n",
    "\n",
    "    # Combine coordinate and date columns\n",
    "    cleaned_final_merged.loc[:, 'Date'] = final_merged_data['Date_x'].combine_first(final_merged_data['Date_y'])\n",
    "    cleaned_final_merged.loc[:, 'Coordinates'] = final_merged_data['Coordinates_x'].combine_first(final_merged_data['Coordinates_y'])\n",
    "\n",
    "    # Drop redundant columns\n",
    "    cleaned_final_merged.drop(columns=['Date_x', 'Date_y', 'Coordinates_x', 'Coordinates_y'], inplace=True)\n",
    "\n",
    "    # Apply cumulative cut on NDVI to remove outliers\n",
    "    ndvi_data = cleaned_final_merged['NDVI'].copy()\n",
    "    sorted_ndvi_data = ndvi_data.sort_values().reset_index(drop=True)\n",
    "\n",
    "    # Calculate cumulative percentages\n",
    "    cumulative_percentage = sorted_ndvi_data.rank(pct=True)\n",
    "\n",
    "    # Define cut-off range\n",
    "    lower_cut = 0.02\n",
    "    upper_cut = 0.98\n",
    "\n",
    "    # Filter NDVI values within range\n",
    "    filtered_NDVI_data = sorted_ndvi_data[\n",
    "        (cumulative_percentage >= lower_cut) &\n",
    "        (cumulative_percentage <= upper_cut)\n",
    "        ]\n",
    "\n",
    "    # Set lower and upper values for NDVI\n",
    "    lower_cut_value = filtered_NDVI_data.min()\n",
    "    upper_cut_value = filtered_NDVI_data.max()\n",
    "\n",
    "    # Keep NDVI rows where NDVI value is within range\n",
    "    cleaned_final_merged_cut = cleaned_final_merged[\n",
    "        (cleaned_final_merged['NDVI'] >= lower_cut_value) &\n",
    "        (cleaned_final_merged['NDVI'] <= upper_cut_value)\n",
    "        ]\n",
    "\n",
    "    return cleaned_final_merged_cut"
   ],
   "id": "a628d9a171e16880",
   "outputs": [],
   "execution_count": 68
  },
  {
   "cell_type": "code",
   "id": "initial_id",
   "metadata": {
    "collapsed": true,
    "ExecuteTime": {
     "end_time": "2025-01-23T15:54:21.355473Z",
     "start_time": "2025-01-23T15:54:21.352980Z"
    }
   },
   "source": [
    "# Data dictionary containing all paths per greenspace\n",
    "greespace_files = {\n",
    "    \"Vondelpark\": {\n",
    "        \"NDVI\": \"Datasets/Sentinel-2/Vondel_NDVI/Vondel_NDVI_csv.csv\",\n",
    "        \"AQI\": \"Datasets/Sentinel-5P/Vondelpark/Vondel_AirQualityIndex/Vondel_AirQualityIndex_csv.csv\",\n",
    "        \"soil_moisture\": \"Datasets/Sentinel-1/Vondelpark/Vondel_SoilMoisture_csv.csv\",\n",
    "        \"land_temp\": \"Datasets/Sentinel-3/Vondelpark/Vondel_LandTemp_csv.csv\",\n",
    "    },\n",
    "    \"Westerpark\": {\n",
    "        \"NDVI\": \"Datasets/Sentinel-2/Wester_NDVI/Wester_NDVI_csv.csv\",\n",
    "        \"AQI\": \"Datasets/Sentinel-5P/Westerpark/Wester_AirQualityIndex/Wester_AirQualityIndex_csv.csv\",\n",
    "        \"soil_moisture\": \"Datasets/Sentinel-1/Westerpark/Wester_SoilMoisture_csv.csv\",\n",
    "        \"land_temp\": \"Datasets/Sentinel-3/Westerpark/Wester_LandTemp_csv.csv\",\n",
    "    },\n",
    "    \"Amstelpark\": {\n",
    "        \"NDVI\": \"Datasets/Sentinel-2/Amstel_NDVI/Amstel_NDVI_csv.csv\",\n",
    "        \"AQI\": \"Datasets/Sentinel-5P/Amstelpark/Amstel_AirQualityIndex/Amstel_AirQualityIndex_csv.csv\",\n",
    "        \"soil_moisture\": \"Datasets/Sentinel-1/Amstelpark/Amstel_SoilMoisture_csv.csv\",\n",
    "        \"land_temp\": \"Datasets/Sentinel-3/Amstelpark/Amstel_LandTemp_csv.csv\",\n",
    "    },\n",
    "    \"Rembrandtpark\": {\n",
    "        \"NDVI\": \"Datasets/Sentinel-2/Rembrandt_NDVI/Rembrandt_NDVI_csv.csv\",\n",
    "        \"AQI\": \"Datasets/Sentinel-5P/Rembrandtpark/Rembrandt_AirQualityIndex/Rembrandt_AirQualityIndex_csv.csv\",\n",
    "        \"soil_moisture\": \"Datasets/Sentinel-1/Rembrandtpark/Rembrandt_SoilMoisture_csv.csv\",\n",
    "        \"land_temp\": \"Datasets/Sentinel-3/Rembrandtpark/Rembrandt_LandTemp_csv.csv\",\n",
    "    },\n",
    "}"
   ],
   "outputs": [],
   "execution_count": 69
  },
  {
   "metadata": {
    "ExecuteTime": {
     "end_time": "2025-01-23T15:54:22.458452Z",
     "start_time": "2025-01-23T15:54:21.366687Z"
    }
   },
   "cell_type": "code",
   "source": [
    "# Store all data of greenspaces in a dictionary for easy access\n",
    "greenspaces = {}\n",
    "for park, paths in greespace_files.items():\n",
    "    greenspaces[park] = process_greenspace_path(paths[\"NDVI\"], paths[\"AQI\"], paths['soil_moisture'], paths['land_temp'])"
   ],
   "id": "9643a7938294f98a",
   "outputs": [],
   "execution_count": 70
  },
  {
   "metadata": {
    "ExecuteTime": {
     "end_time": "2025-01-23T15:54:22.487813Z",
     "start_time": "2025-01-23T15:54:22.479952Z"
    }
   },
   "cell_type": "code",
   "source": "greenspaces['Vondelpark']",
   "id": "a3abe63a1a53557",
   "outputs": [
    {
     "data": {
      "text/plain": [
       "            NDVI         AQI  Soil_Moisture  Land_Temp        Date  \\\n",
       "0       0.074513  118.564835       0.076748  266.87164  2024-03-01   \n",
       "1       0.072915  118.564835       0.076748  266.87164  2024-03-01   \n",
       "2       0.071516  118.564835       0.095758  266.87164  2024-03-01   \n",
       "3       0.068068  118.564835       0.095758  266.87164  2024-03-01   \n",
       "4       0.061473  118.564835       0.079892  266.87164  2024-03-01   \n",
       "...          ...         ...            ...        ...         ...   \n",
       "271195  0.184967   99.465904       0.068921  285.16400  2024-06-01   \n",
       "271196  0.153550   99.465904       0.053422  285.16400  2024-06-01   \n",
       "271197  0.182766   99.465904       0.053422  285.16400  2024-06-01   \n",
       "271198  0.143232   99.465904       0.122898  285.16400  2024-06-01   \n",
       "271199  0.115349   99.465904       0.122898  285.16400  2024-06-01   \n",
       "\n",
       "                Coordinates  \n",
       "0       626205.0, 5802955.0  \n",
       "1       626215.0, 5802955.0  \n",
       "2       626225.0, 5802955.0  \n",
       "3       626235.0, 5802955.0  \n",
       "4       626245.0, 5802955.0  \n",
       "...                     ...  \n",
       "271195  628155.0, 5801835.0  \n",
       "271196  628165.0, 5801835.0  \n",
       "271197  628175.0, 5801835.0  \n",
       "271198  628185.0, 5801835.0  \n",
       "271199  628195.0, 5801835.0  \n",
       "\n",
       "[130177 rows x 6 columns]"
      ],
      "text/html": [
       "<div>\n",
       "<style scoped>\n",
       "    .dataframe tbody tr th:only-of-type {\n",
       "        vertical-align: middle;\n",
       "    }\n",
       "\n",
       "    .dataframe tbody tr th {\n",
       "        vertical-align: top;\n",
       "    }\n",
       "\n",
       "    .dataframe thead th {\n",
       "        text-align: right;\n",
       "    }\n",
       "</style>\n",
       "<table border=\"1\" class=\"dataframe\">\n",
       "  <thead>\n",
       "    <tr style=\"text-align: right;\">\n",
       "      <th></th>\n",
       "      <th>NDVI</th>\n",
       "      <th>AQI</th>\n",
       "      <th>Soil_Moisture</th>\n",
       "      <th>Land_Temp</th>\n",
       "      <th>Date</th>\n",
       "      <th>Coordinates</th>\n",
       "    </tr>\n",
       "  </thead>\n",
       "  <tbody>\n",
       "    <tr>\n",
       "      <th>0</th>\n",
       "      <td>0.074513</td>\n",
       "      <td>118.564835</td>\n",
       "      <td>0.076748</td>\n",
       "      <td>266.87164</td>\n",
       "      <td>2024-03-01</td>\n",
       "      <td>626205.0, 5802955.0</td>\n",
       "    </tr>\n",
       "    <tr>\n",
       "      <th>1</th>\n",
       "      <td>0.072915</td>\n",
       "      <td>118.564835</td>\n",
       "      <td>0.076748</td>\n",
       "      <td>266.87164</td>\n",
       "      <td>2024-03-01</td>\n",
       "      <td>626215.0, 5802955.0</td>\n",
       "    </tr>\n",
       "    <tr>\n",
       "      <th>2</th>\n",
       "      <td>0.071516</td>\n",
       "      <td>118.564835</td>\n",
       "      <td>0.095758</td>\n",
       "      <td>266.87164</td>\n",
       "      <td>2024-03-01</td>\n",
       "      <td>626225.0, 5802955.0</td>\n",
       "    </tr>\n",
       "    <tr>\n",
       "      <th>3</th>\n",
       "      <td>0.068068</td>\n",
       "      <td>118.564835</td>\n",
       "      <td>0.095758</td>\n",
       "      <td>266.87164</td>\n",
       "      <td>2024-03-01</td>\n",
       "      <td>626235.0, 5802955.0</td>\n",
       "    </tr>\n",
       "    <tr>\n",
       "      <th>4</th>\n",
       "      <td>0.061473</td>\n",
       "      <td>118.564835</td>\n",
       "      <td>0.079892</td>\n",
       "      <td>266.87164</td>\n",
       "      <td>2024-03-01</td>\n",
       "      <td>626245.0, 5802955.0</td>\n",
       "    </tr>\n",
       "    <tr>\n",
       "      <th>...</th>\n",
       "      <td>...</td>\n",
       "      <td>...</td>\n",
       "      <td>...</td>\n",
       "      <td>...</td>\n",
       "      <td>...</td>\n",
       "      <td>...</td>\n",
       "    </tr>\n",
       "    <tr>\n",
       "      <th>271195</th>\n",
       "      <td>0.184967</td>\n",
       "      <td>99.465904</td>\n",
       "      <td>0.068921</td>\n",
       "      <td>285.16400</td>\n",
       "      <td>2024-06-01</td>\n",
       "      <td>628155.0, 5801835.0</td>\n",
       "    </tr>\n",
       "    <tr>\n",
       "      <th>271196</th>\n",
       "      <td>0.153550</td>\n",
       "      <td>99.465904</td>\n",
       "      <td>0.053422</td>\n",
       "      <td>285.16400</td>\n",
       "      <td>2024-06-01</td>\n",
       "      <td>628165.0, 5801835.0</td>\n",
       "    </tr>\n",
       "    <tr>\n",
       "      <th>271197</th>\n",
       "      <td>0.182766</td>\n",
       "      <td>99.465904</td>\n",
       "      <td>0.053422</td>\n",
       "      <td>285.16400</td>\n",
       "      <td>2024-06-01</td>\n",
       "      <td>628175.0, 5801835.0</td>\n",
       "    </tr>\n",
       "    <tr>\n",
       "      <th>271198</th>\n",
       "      <td>0.143232</td>\n",
       "      <td>99.465904</td>\n",
       "      <td>0.122898</td>\n",
       "      <td>285.16400</td>\n",
       "      <td>2024-06-01</td>\n",
       "      <td>628185.0, 5801835.0</td>\n",
       "    </tr>\n",
       "    <tr>\n",
       "      <th>271199</th>\n",
       "      <td>0.115349</td>\n",
       "      <td>99.465904</td>\n",
       "      <td>0.122898</td>\n",
       "      <td>285.16400</td>\n",
       "      <td>2024-06-01</td>\n",
       "      <td>628195.0, 5801835.0</td>\n",
       "    </tr>\n",
       "  </tbody>\n",
       "</table>\n",
       "<p>130177 rows × 6 columns</p>\n",
       "</div>"
      ]
     },
     "execution_count": 71,
     "metadata": {},
     "output_type": "execute_result"
    }
   ],
   "execution_count": 71
  },
  {
   "metadata": {
    "ExecuteTime": {
     "end_time": "2025-01-23T15:54:22.579030Z",
     "start_time": "2025-01-23T15:54:22.523089Z"
    }
   },
   "cell_type": "code",
   "source": [
    "def pca_on_greenspace(greenspaces, components):\n",
    "    \"\"\"\n",
    "    Function to perform PCA on each green space\n",
    "\n",
    "    :param greenspace: Dictionary of green space data\n",
    "    :return:\n",
    "    \"\"\"\n",
    "\n",
    "    pca_results = {}\n",
    "\n",
    "    for park, dataframe in greenspaces.items():\n",
    "\n",
    "        # Select relevant columns for PCA\n",
    "        features = ['NDVI', 'AQI', 'Soil_Moisture', 'Land_Temp']\n",
    "        features_df = dataframe[features]\n",
    "\n",
    "        # Standardize data with mean 0 and SD 1 due to PCA being sensitive to scale\n",
    "        scaler = StandardScaler()\n",
    "        scaled_data =  scaler.fit_transform(features_df)\n",
    "\n",
    "        # Apply PCA\n",
    "        pca_model = PCA(n_components=components)\n",
    "        principal_components = pca_model.fit_transform(scaled_data)\n",
    "\n",
    "        # Store results in dictionary\n",
    "        pca_results[park] = {\n",
    "            'principal_components': principal_components,\n",
    "            'explained_variance': pca_model.explained_variance_ratio_,\n",
    "            'pca_model': pca_model\n",
    "        }\n",
    "\n",
    "        # Print variance explained by each component\n",
    "        print(f\"PCA for {park}:\")\n",
    "        print(f\"Explained Variance Ratio: {pca_model.explained_variance_ratio_}\")\n",
    "\n",
    "        # Convert PCA results back to DataFrame for further analysis\n",
    "        if components == 4:\n",
    "            pca_df = pd.DataFrame(data=principal_components, columns=['PC1', 'PC2', 'PC3', 'PC4'])\n",
    "        elif components == 3:\n",
    "            pca_df = pd.DataFrame(data=principal_components, columns=['PC1', 'PC2', 'PC3'])\n",
    "\n",
    "        pca_results[park]['pca_df'] = pca_df\n",
    "\n",
    "\n",
    "    return pca_results\n",
    "\n",
    "pca_results = pca_on_greenspace(greenspaces, 4)"
   ],
   "id": "6a25083ecb628d43",
   "outputs": [
    {
     "name": "stdout",
     "output_type": "stream",
     "text": [
      "PCA for Vondelpark:\n",
      "Explained Variance Ratio: [0.54934018 0.2519505  0.15384184 0.04486748]\n",
      "PCA for Westerpark:\n",
      "Explained Variance Ratio: [0.5418355  0.25138261 0.13785596 0.06892594]\n",
      "PCA for Amstelpark:\n",
      "Explained Variance Ratio: [0.56683513 0.2338745  0.16136887 0.0379215 ]\n",
      "PCA for Rembrandtpark:\n",
      "Explained Variance Ratio: [0.58262685 0.25053519 0.11929271 0.04754525]\n"
     ]
    }
   ],
   "execution_count": 72
  },
  {
   "metadata": {
    "ExecuteTime": {
     "end_time": "2025-01-23T15:54:22.710904Z",
     "start_time": "2025-01-23T15:54:22.600314Z"
    }
   },
   "cell_type": "code",
   "source": [
    "# Function to plot scree plot\n",
    "def plot_scree(pca_results):\n",
    "    plt.figure(figsize=(8, 6))\n",
    "\n",
    "    for park, results in pca_results.items():\n",
    "        explained_variance = results['pca_model'].explained_variance_ratio_\n",
    "        components = np.arange(1, len(explained_variance) + 1)\n",
    "\n",
    "        plt.plot(components, explained_variance, marker='o', label=park)\n",
    "\n",
    "    plt.xlabel('Principal Component')\n",
    "    plt.ylabel('Explained Variance Ratio')\n",
    "    plt.title('Scree Plot of Principal Components')\n",
    "    plt.legend()\n",
    "    plt.grid()\n",
    "    plt.show()\n",
    "\n",
    "# Call the function with your PCA results\n",
    "plot_scree(pca_results)"
   ],
   "id": "b3dbf19aa442ad25",
   "outputs": [
    {
     "data": {
      "text/plain": [
       "<Figure size 800x600 with 1 Axes>"
      ],
      "image/png": "[encoded data removed]"
     },
     "metadata": {},
     "output_type": "display_data"
    }
   ],
   "execution_count": 73
  },
  {
   "metadata": {},
   "cell_type": "markdown",
   "source": "Looking at the attained results along with the above scree plot, it is appropriate to retain 3 principal components as these capture 87%-95% of the total variance. Adding the fourth component would add little additional information at the cost of making the model more complicated",
   "id": "6184f44fc1fa8477"
  },
  {
   "metadata": {},
   "cell_type": "markdown",
   "source": "# Creation of Custom Index",
   "id": "4736051ab7ee9dae"
  },
  {
   "metadata": {
    "ExecuteTime": {
     "end_time": "2025-01-23T15:54:24.154466Z",
     "start_time": "2025-01-23T15:54:22.797930Z"
    }
   },
   "cell_type": "code",
   "source": [
    "# Store all data of greenspaces in a dictionary for easy access\n",
    "greenspaces_index = {}\n",
    "for park, paths in greespace_files.items():\n",
    "    greenspaces_index[park] = process_greenspace_path(paths[\"NDVI\"], paths[\"AQI\"], paths['soil_moisture'], paths['land_temp'])"
   ],
   "id": "dd01ab46cd86f53e",
   "outputs": [],
   "execution_count": 74
  },
  {
   "metadata": {
    "ExecuteTime": {
     "end_time": "2025-01-23T15:54:24.171917Z",
     "start_time": "2025-01-23T15:54:24.169839Z"
    }
   },
   "cell_type": "code",
   "source": [
    "def apply_weights(dataframe, weights):\n",
    "    \"\"\"\n",
    "    Function to apply weights to factors\n",
    "\n",
    "    :param dataframe:\n",
    "    :param weights:\n",
    "    :return:\n",
    "    \"\"\"\n",
    "    weighted_df = dataframe.copy()\n",
    "    for factor, weight in weights.items():\n",
    "        if factor in dataframe.columns:\n",
    "            weighted_df[factor] *= weight\n",
    "\n",
    "    return weighted_df"
   ],
   "id": "99c29fa9f5754bf4",
   "outputs": [],
   "execution_count": 75
  },
  {
   "metadata": {
    "ExecuteTime": {
     "end_time": "2025-01-23T15:54:24.245192Z",
     "start_time": "2025-01-23T15:54:24.194679Z"
    }
   },
   "cell_type": "code",
   "source": [
    "def pca_custom_index(greenspaces, weights):\n",
    "    \"\"\"\n",
    "    Function to apply pca model to create custom index by making use of different environmental variables\n",
    "\n",
    "    :param greenspaces: Dictionary containing file paths to environmental variables per greenspace\n",
    "    :param weights: Weights to apply to different environmental variables\n",
    "    :return:\n",
    "    \"\"\"\n",
    "    for park, df in greenspaces.items():\n",
    "\n",
    "        # Select relevant columns for PCA\n",
    "        features = ['NDVI', 'AQI', 'Soil_Moisture', 'Land_Temp']\n",
    "        features_df = df[features]\n",
    "\n",
    "        # Standardize data with mean 0 and SD 1 due to PCA being sensitive to scale\n",
    "        scaler = StandardScaler()\n",
    "        scaled_data =  scaler.fit_transform(features_df)\n",
    "\n",
    "        # Convert scaled data back to DataFrame\n",
    "        scaled_df = pd.DataFrame(scaled_data, columns=features)\n",
    "\n",
    "        # Apply weights to factors after standardizing\n",
    "        weighted_df = apply_weights(scaled_df, weights)\n",
    "\n",
    "        # Perform PCA with 3 components\n",
    "        pca_model = PCA(n_components=3)\n",
    "        principal_components = pca_model.fit_transform(weighted_df)\n",
    "\n",
    "        # Store results\n",
    "        pca_df = pd.DataFrame(data=principal_components, columns=['PC1', 'PC2', 'PC3'])\n",
    "\n",
    "        # Compute the custom index using the principal components\n",
    "        pca_df['CustomIndex'] = (\n",
    "            pca_df['PC1'] * pca_model.explained_variance_ratio_[0] +\n",
    "            pca_df['PC2'] * pca_model.explained_variance_ratio_[1] +\n",
    "            pca_df['PC3'] * pca_model.explained_variance_ratio_[2]\n",
    "        )\n",
    "\n",
    "        # Scale custom index to range 1-100\n",
    "        min_val = pca_df['CustomIndex'].min()\n",
    "        max_val = pca_df['CustomIndex'].max()\n",
    "\n",
    "        pca_df['CustomIndex_Scaled'] = ((pca_df['CustomIndex'] - min_val) / (max_val - min_val)) * (100 - 1) + 1\n",
    "\n",
    "        # Add the index to original dataframe\n",
    "        custom_index = pca_df['CustomIndex_Scaled']\n",
    "        greenspaces[park].drop(columns=['Custom_Index'], errors='ignore', inplace=True)\n",
    "        greenspaces[park] = greenspaces[park].reset_index(drop=True)\n",
    "        custom_index = custom_index.reset_index(drop=True)\n",
    "        greenspaces[park]['Custom_Index'] = custom_index\n",
    "\n",
    "        print(f\"Index calculated and applied to {park}\")\n",
    "\n",
    "    return greenspaces\n",
    "\n",
    "# Define weights for the environmental factors based on importance\n",
    "# weights = {\n",
    "#     'NDVI': 0.50,\n",
    "#     'Land_Temp': 0.25,\n",
    "#     'Soil_Moisture': 0.15,\n",
    "#     'AQI': 0.1\n",
    "# }\n",
    "\n",
    "weights = {\n",
    "    'NDVI': 0.40,\n",
    "    'Land_Temp': 0.35,\n",
    "    'Soil_Moisture': 0.15,\n",
    "    'AQI': 0.1\n",
    "}\n",
    "\n",
    "pca_results = pca_custom_index(greenspaces, weights)"
   ],
   "id": "1bc26de6a890fa49",
   "outputs": [
    {
     "name": "stdout",
     "output_type": "stream",
     "text": [
      "Index calculated and applied to Vondelpark\n",
      "Index calculated and applied to Westerpark\n",
      "Index calculated and applied to Amstelpark\n",
      "Index calculated and applied to Rembrandtpark\n"
     ]
    }
   ],
   "execution_count": 76
  },
  {
   "metadata": {
    "ExecuteTime": {
     "end_time": "2025-01-23T15:54:24.255480Z",
     "start_time": "2025-01-23T15:54:24.249141Z"
    }
   },
   "cell_type": "code",
   "source": [
    "# Due to missing data in some of the satellite data, only months 02 - 07 are available\n",
    "pca_results['Vondelpark']['Date'].unique()"
   ],
   "id": "7cec0b5f0c30b513",
   "outputs": [
    {
     "data": {
      "text/plain": [
       "array(['2024-03-01', '2024-02-01', '2024-04-01', '2024-05-01',\n",
       "       '2024-07-01', '2024-06-01'], dtype=object)"
      ]
     },
     "execution_count": 77,
     "metadata": {},
     "output_type": "execute_result"
    }
   ],
   "execution_count": 77
  },
  {
   "metadata": {
    "ExecuteTime": {
     "end_time": "2025-01-23T15:54:24.343830Z",
     "start_time": "2025-01-23T15:54:24.269003Z"
    }
   },
   "cell_type": "code",
   "source": [
    "# Visualise distribution of index value\n",
    "plt.hist(pca_results['Amstelpark']['Custom_Index'], bins=50, alpha=0.7, color='green')\n",
    "plt.title('Distribution of Scaled Custom Vegetation Index')\n",
    "plt.xlabel('Custom Index (1-100)')\n",
    "plt.ylabel('Frequency')\n",
    "plt.grid(True)\n",
    "plt.show()"
   ],
   "id": "2ee5bcde2e3711f5",
   "outputs": [
    {
     "data": {
      "text/plain": [
       "<Figure size 640x480 with 1 Axes>"
      ],
      "image/png": "[encoded data removed]"
     },
     "metadata": {},
     "output_type": "display_data"
    }
   ],
   "execution_count": 78
  },
  {
   "metadata": {},
   "cell_type": "markdown",
   "source": "# Exporting Index to GeoTIFF",
   "id": "3755784a563399e4"
  },
  {
   "metadata": {
    "ExecuteTime": {
     "end_time": "2025-01-23T15:54:26.312739Z",
     "start_time": "2025-01-23T15:54:24.356027Z"
    }
   },
   "cell_type": "code",
   "source": [
    "def export_greenspace_to_geotiff(greenspaces_with_index, output_directory):\n",
    "    \"\"\"\n",
    "    Function to export greenspaces to GeoTiff using custom index as value\n",
    "\n",
    "    :param greenspaces_with_index: Dictionary containing greenspace dataframes with index\n",
    "    :param output_directory:\n",
    "    :return:\n",
    "    \"\"\"\n",
    "\n",
    "    for park, dataframe in greenspaces_with_index.items():\n",
    "        # Convert coordinates to float values\n",
    "        dataframe[['X', 'Y']] = dataframe['Coordinates'].str.split(',', expand=True).astype(float)\n",
    "        dataframe['Date'] = pd.to_datetime(dataframe['Date'])\n",
    "\n",
    "        # Establish row index to keep data aligned\n",
    "        dataframe['Row_Index'] = dataframe.index\n",
    "\n",
    "        # Group by unique months and export each month as a separate GeoTIFF\n",
    "        unique_months = dataframe['Date'].dt.to_period('M').unique()\n",
    "\n",
    "        for month in unique_months:\n",
    "            month_data = dataframe[dataframe['Date'].dt.to_period('M') == month]\n",
    "\n",
    "            # Save monthly data as CSV for verification\n",
    "            csv_output_path = f\"{output_directory}/CSV_Files/{park}_{month}.csv\"\n",
    "            month_data.to_csv(csv_output_path, index=False)\n",
    "            print(f\"CSV saved for {park} - {month}: {csv_output_path}\")\n",
    "\n",
    "            # Create pivot table for spatial representation on a grid\n",
    "            pivot_table = month_data.pivot(index = 'X', columns = 'Y', values = 'Custom_Index')\n",
    "\n",
    "            # Convert to numpy array\n",
    "            greenspace_array = pivot_table.to_numpy()\n",
    "\n",
    "            if greenspace_array is None or greenspace_array.size == 0:\n",
    "                print(f\"Skipping {park} for {month} due to empty data\")\n",
    "                continue\n",
    "\n",
    "            # Ensure X and Y coordinates are sorted correctly\n",
    "            y_coords = np.sort(pivot_table.columns.values)\n",
    "            x_coords = np.sort(pivot_table.index.values)\n",
    "\n",
    "            # Define raster transformation\n",
    "            transform = from_origin(\n",
    "                x_coords.min(),  # Upper-left X coordinate\n",
    "                y_coords.min(),  # Upper-left Y coordinate\n",
    "                abs(x_coords[1] - x_coords[0]),  # X resolution\n",
    "                abs(y_coords[1] - y_coords[0]) # Y resolution\n",
    "            )\n",
    "\n",
    "            # Add 90-degree rotation\n",
    "            transform = transform * Affine.rotation(-90)\n",
    "\n",
    "            # Output file path\n",
    "            output_path = f\"{output_directory}/{park}_{month}.tif\"\n",
    "\n",
    "            # Write to GeoTIFF\n",
    "            with rasterio.open(\n",
    "                    output_path, 'w',\n",
    "                    driver = 'GTiff',\n",
    "                    height = greenspace_array.shape[0],\n",
    "                    width = greenspace_array.shape[1],\n",
    "                    count = 1,\n",
    "                    dtype = greenspace_array.dtype,\n",
    "                    crs= \"EPSG:32631\",  # Using system UTM 31U\n",
    "                    transform = transform\n",
    "            ) as dst:\n",
    "                dst.write(greenspace_array, 1)\n",
    "\n",
    "            print(f\"GeoTIFF saved for {park} - {month}: {output_path}\")\n",
    "\n",
    "export_greenspace_to_geotiff(pca_results, 'Datasets/CustomIndex')"
   ],
   "id": "66dfca9d57f964f4",
   "outputs": [
    {
     "name": "stdout",
     "output_type": "stream",
     "text": [
      "CSV saved for Vondelpark - 2024-03: Datasets/CustomIndex/CSV_Files/Vondelpark_2024-03.csv\n",
      "GeoTIFF saved for Vondelpark - 2024-03: Datasets/CustomIndex/Vondelpark_2024-03.tif\n",
      "CSV saved for Vondelpark - 2024-02: Datasets/CustomIndex/CSV_Files/Vondelpark_2024-02.csv\n",
      "GeoTIFF saved for Vondelpark - 2024-02: Datasets/CustomIndex/Vondelpark_2024-02.tif\n",
      "CSV saved for Vondelpark - 2024-04: Datasets/CustomIndex/CSV_Files/Vondelpark_2024-04.csv\n",
      "GeoTIFF saved for Vondelpark - 2024-04: Datasets/CustomIndex/Vondelpark_2024-04.tif\n",
      "CSV saved for Vondelpark - 2024-05: Datasets/CustomIndex/CSV_Files/Vondelpark_2024-05.csv\n",
      "GeoTIFF saved for Vondelpark - 2024-05: Datasets/CustomIndex/Vondelpark_2024-05.tif\n",
      "CSV saved for Vondelpark - 2024-07: Datasets/CustomIndex/CSV_Files/Vondelpark_2024-07.csv\n",
      "GeoTIFF saved for Vondelpark - 2024-07: Datasets/CustomIndex/Vondelpark_2024-07.tif\n",
      "CSV saved for Vondelpark - 2024-06: Datasets/CustomIndex/CSV_Files/Vondelpark_2024-06.csv\n",
      "GeoTIFF saved for Vondelpark - 2024-06: Datasets/CustomIndex/Vondelpark_2024-06.tif\n",
      "CSV saved for Westerpark - 2024-06: Datasets/CustomIndex/CSV_Files/Westerpark_2024-06.csv\n",
      "GeoTIFF saved for Westerpark - 2024-06: Datasets/CustomIndex/Westerpark_2024-06.tif\n",
      "CSV saved for Westerpark - 2024-07: Datasets/CustomIndex/CSV_Files/Westerpark_2024-07.csv\n",
      "GeoTIFF saved for Westerpark - 2024-07: Datasets/CustomIndex/Westerpark_2024-07.tif\n",
      "CSV saved for Westerpark - 2024-05: Datasets/CustomIndex/CSV_Files/Westerpark_2024-05.csv\n",
      "GeoTIFF saved for Westerpark - 2024-05: Datasets/CustomIndex/Westerpark_2024-05.tif\n",
      "CSV saved for Westerpark - 2024-04: Datasets/CustomIndex/CSV_Files/Westerpark_2024-04.csv\n",
      "GeoTIFF saved for Westerpark - 2024-04: Datasets/CustomIndex/Westerpark_2024-04.tif\n",
      "CSV saved for Westerpark - 2024-02: Datasets/CustomIndex/CSV_Files/Westerpark_2024-02.csv\n",
      "GeoTIFF saved for Westerpark - 2024-02: Datasets/CustomIndex/Westerpark_2024-02.tif\n",
      "CSV saved for Westerpark - 2024-03: Datasets/CustomIndex/CSV_Files/Westerpark_2024-03.csv\n",
      "GeoTIFF saved for Westerpark - 2024-03: Datasets/CustomIndex/Westerpark_2024-03.tif\n",
      "CSV saved for Amstelpark - 2024-05: Datasets/CustomIndex/CSV_Files/Amstelpark_2024-05.csv\n",
      "GeoTIFF saved for Amstelpark - 2024-05: Datasets/CustomIndex/Amstelpark_2024-05.tif\n",
      "CSV saved for Amstelpark - 2024-04: Datasets/CustomIndex/CSV_Files/Amstelpark_2024-04.csv\n",
      "GeoTIFF saved for Amstelpark - 2024-04: Datasets/CustomIndex/Amstelpark_2024-04.tif\n",
      "CSV saved for Amstelpark - 2024-06: Datasets/CustomIndex/CSV_Files/Amstelpark_2024-06.csv\n",
      "GeoTIFF saved for Amstelpark - 2024-06: Datasets/CustomIndex/Amstelpark_2024-06.tif\n",
      "CSV saved for Amstelpark - 2024-07: Datasets/CustomIndex/CSV_Files/Amstelpark_2024-07.csv\n",
      "GeoTIFF saved for Amstelpark - 2024-07: Datasets/CustomIndex/Amstelpark_2024-07.tif\n",
      "CSV saved for Amstelpark - 2024-02: Datasets/CustomIndex/CSV_Files/Amstelpark_2024-02.csv\n",
      "GeoTIFF saved for Amstelpark - 2024-02: Datasets/CustomIndex/Amstelpark_2024-02.tif\n",
      "CSV saved for Amstelpark - 2024-03: Datasets/CustomIndex/CSV_Files/Amstelpark_2024-03.csv\n",
      "GeoTIFF saved for Amstelpark - 2024-03: Datasets/CustomIndex/Amstelpark_2024-03.tif\n",
      "CSV saved for Rembrandtpark - 2024-07: Datasets/CustomIndex/CSV_Files/Rembrandtpark_2024-07.csv\n",
      "GeoTIFF saved for Rembrandtpark - 2024-07: Datasets/CustomIndex/Rembrandtpark_2024-07.tif\n",
      "CSV saved for Rembrandtpark - 2024-06: Datasets/CustomIndex/CSV_Files/Rembrandtpark_2024-06.csv\n",
      "GeoTIFF saved for Rembrandtpark - 2024-06: Datasets/CustomIndex/Rembrandtpark_2024-06.tif\n",
      "CSV saved for Rembrandtpark - 2024-04: Datasets/CustomIndex/CSV_Files/Rembrandtpark_2024-04.csv\n",
      "GeoTIFF saved for Rembrandtpark - 2024-04: Datasets/CustomIndex/Rembrandtpark_2024-04.tif\n",
      "CSV saved for Rembrandtpark - 2024-05: Datasets/CustomIndex/CSV_Files/Rembrandtpark_2024-05.csv\n",
      "GeoTIFF saved for Rembrandtpark - 2024-05: Datasets/CustomIndex/Rembrandtpark_2024-05.tif\n",
      "CSV saved for Rembrandtpark - 2024-03: Datasets/CustomIndex/CSV_Files/Rembrandtpark_2024-03.csv\n",
      "GeoTIFF saved for Rembrandtpark - 2024-03: Datasets/CustomIndex/Rembrandtpark_2024-03.tif\n",
      "CSV saved for Rembrandtpark - 2024-02: Datasets/CustomIndex/CSV_Files/Rembrandtpark_2024-02.csv\n",
      "GeoTIFF saved for Rembrandtpark - 2024-02: Datasets/CustomIndex/Rembrandtpark_2024-02.tif\n"
     ]
    }
   ],
   "execution_count": 79
  },
  {
   "metadata": {
    "ExecuteTime": {
     "end_time": "2025-01-23T15:54:26.359450Z",
     "start_time": "2025-01-23T15:54:26.357254Z"
    }
   },
   "cell_type": "code",
   "source": "",
   "id": "bb0ce9f2195a3542",
   "outputs": [],
   "execution_count": null
  }
 ],
 "metadata": {
  "kernelspec": {
   "display_name": "Python 3",
   "language": "python",
   "name": "python3"
  },
  "language_info": {
   "codemirror_mode": {
    "name": "ipython",
    "version": 2
   },
   "file_extension": ".py",
   "mimetype": "text/x-python",
   "name": "python",
   "nbconvert_exporter": "python",
   "pygments_lexer": "ipython2",
   "version": "2.7.6"
  }
 },
 "nbformat": 4,
 "nbformat_minor": 5
}
