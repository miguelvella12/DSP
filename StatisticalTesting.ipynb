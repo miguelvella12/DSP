{
 "cells": [
  {
   "cell_type": "code",
   "id": "initial_id",
   "metadata": {
    "ExecuteTime": {
     "end_time": "2025-01-22T16:44:22.712442Z",
     "start_time": "2025-01-22T16:44:22.704941Z"
    }
   },
   "source": [
    "import pandas as pd\n",
    "import numpy as np\n",
    "from scipy.stats import pearsonr, spearmanr, kendalltau, kruskal\n",
    "import matplotlib.pyplot as plt"
   ],
   "outputs": [],
   "execution_count": 62
  },
  {
   "metadata": {},
   "cell_type": "markdown",
   "source": "# Comparison of Green Spaces - Air Quality Index",
   "id": "a2944303338ba30b"
  },
  {
   "metadata": {},
   "cell_type": "markdown",
   "source": "The air quality index is uniform across all coordinates. Therefore, comparison and statistical testing in this section is done for every coordinate",
   "id": "c9b90f287e1c3682"
  },
  {
   "metadata": {
    "ExecuteTime": {
     "end_time": "2025-01-22T16:44:22.746850Z",
     "start_time": "2025-01-22T16:44:22.744341Z"
    }
   },
   "cell_type": "code",
   "source": [
    "def process_greenspace_aqi(ndvi_path, aqi_path):\n",
    "    \"\"\"\n",
    "    Function to process and merge NDVI and AQI data per greenspace\n",
    "\n",
    "    :param ndvi_path:\n",
    "    :param aqi_path:\n",
    "    :return:\n",
    "    \"\"\"\n",
    "    ndvi_data = pd.read_csv(ndvi_path)\n",
    "    aqi_data = pd.read_csv(aqi_path)\n",
    "\n",
    "    merged_data = pd.merge(ndvi_data, aqi_data, left_index=True, right_index=True, how=\"inner\")\n",
    "\n",
    "    return merged_data"
   ],
   "id": "2ab785c363f8911c",
   "outputs": [],
   "execution_count": 63
  },
  {
   "metadata": {
    "ExecuteTime": {
     "end_time": "2025-01-22T16:44:22.773897Z",
     "start_time": "2025-01-22T16:44:22.771665Z"
    }
   },
   "cell_type": "code",
   "source": [
    "# Define file aqi and ndvi file paths for greenspaces\n",
    "greenspace_files_aqi = {\n",
    "    \"Vondelpark\": {\n",
    "        \"NDVI\": \"Datasets/Sentinel-2/Vondel_NDVI/Vondel_NDVI_csv.csv\",\n",
    "        \"AQI\": \"Datasets/Sentinel-5P/Vondelpark/Vondel_AirQualityIndex/Vondel_AirQualityIndex_csv.csv\",\n",
    "    },\n",
    "    \"Westerpark\": {\n",
    "        \"NDVI\": \"Datasets/Sentinel-2/Wester_NDVI/Wester_NDVI_csv.csv\",\n",
    "        \"AQI\": \"Datasets/Sentinel-5P/Westerpark/Wester_AirQualityIndex/Wester_AirQualityIndex_csv.csv\",\n",
    "    },\n",
    "    \"Amstelpark\": {\n",
    "        \"NDVI\": \"Datasets/Sentinel-2/Amstel_NDVI/Amstel_NDVI_csv.csv\",\n",
    "        \"AQI\": \"Datasets/Sentinel-5P/Amstelpark/Amstel_AirQualityIndex/Amstel_AirQualityIndex_csv.csv\",\n",
    "    },\n",
    "    \"Rembrandtpark\": {\n",
    "        \"NDVI\": \"Datasets/Sentinel-2/Rembrandt_NDVI/Rembrandt_NDVI_csv.csv\",\n",
    "        \"AQI\": \"Datasets/Sentinel-5P/Rembrandtpark/Rembrandt_AirQualityIndex/Rembrandt_AirQualityIndex_csv.csv\",\n",
    "    },\n",
    "}"
   ],
   "id": "26557c486a1030c7",
   "outputs": [],
   "execution_count": 64
  },
  {
   "metadata": {
    "ExecuteTime": {
     "end_time": "2025-01-22T16:44:23.191168Z",
     "start_time": "2025-01-22T16:44:22.777545Z"
    }
   },
   "cell_type": "code",
   "source": [
    "# Store all data of greenspaces in a dictionary for easy access\n",
    "greenspaces = {}\n",
    "for park, paths in greenspace_files_aqi.items():\n",
    "    greenspaces[park] = process_greenspace_aqi(paths[\"NDVI\"], paths[\"AQI\"])"
   ],
   "id": "712f4d6464cb130e",
   "outputs": [],
   "execution_count": 65
  },
  {
   "metadata": {
    "ExecuteTime": {
     "end_time": "2025-01-22T16:44:23.443305Z",
     "start_time": "2025-01-22T16:44:23.208055Z"
    }
   },
   "cell_type": "code",
   "source": [
    "def clean_merged_data(merged_csv):\n",
    "    \"\"\"\n",
    "    Function to clean merged data and apply a cumulative cut-off range, preparing it for statistical testing\n",
    "\n",
    "    :param merged_csv:\n",
    "    :return:\n",
    "    \"\"\"\n",
    "\n",
    "    # Drop missing values\n",
    "    cleaned_csv = merged_csv.copy().dropna()\n",
    "\n",
    "    # Combine coordinate and date columns\n",
    "    cleaned_csv.loc[:, 'Date'] = cleaned_csv['Date_x'].combine_first(cleaned_csv['Date_y'])\n",
    "    cleaned_csv.loc[:, 'Coordinates'] = cleaned_csv['Coordinates_x'].combine_first(cleaned_csv['Coordinates_y'])\n",
    "\n",
    "    # Drop redundant columns\n",
    "    cleaned_csv.drop(columns=['Date_x', 'Date_y', 'Coordinates_x', 'Coordinates_y'], inplace=True)\n",
    "\n",
    "    # Rename Value columns to NDVI and AQI\n",
    "    cleaned_csv.rename(columns={'Value_x': 'NDVI', 'Value_y': 'AQI'}, inplace=True)\n",
    "\n",
    "    # Apply cumulative cut on NDVI\n",
    "    ndvi_data = cleaned_csv['NDVI'].copy()\n",
    "    sorted_ndvi_data = ndvi_data.sort_values().reset_index(drop=True)\n",
    "\n",
    "    # Calculate cumulative percentages\n",
    "    cumulative_percentage = sorted_ndvi_data.rank(pct=True)\n",
    "\n",
    "    # Define cut-off range\n",
    "    lower_cut = 0.02\n",
    "    upper_cut = 0.98\n",
    "\n",
    "    # Filter NDVI values within range\n",
    "    filtered_NDVI_data = sorted_ndvi_data[\n",
    "        (cumulative_percentage >= lower_cut) &\n",
    "        (cumulative_percentage <= upper_cut)\n",
    "    ]\n",
    "\n",
    "    # Set lower and upper values for NDVI\n",
    "    lower_cut_value = filtered_NDVI_data.min()\n",
    "    upper_cut_value = filtered_NDVI_data.max()\n",
    "\n",
    "    # Keep NDVI rows where NDVI value is within range\n",
    "    cleaned_csv_final = cleaned_csv[\n",
    "        (cleaned_csv['NDVI'] >= lower_cut_value) &\n",
    "        (cleaned_csv['NDVI'] <= upper_cut_value)\n",
    "    ]\n",
    "\n",
    "    return cleaned_csv_final\n",
    "\n",
    "# Apply the cleaning function to all greenspaces\n",
    "greenspaces_cleaned = {park: clean_merged_data(data) for park, data in greenspaces.items()}"
   ],
   "id": "37b7ffa5ffce2cc8",
   "outputs": [],
   "execution_count": 66
  },
  {
   "metadata": {
    "ExecuteTime": {
     "end_time": "2025-01-22T16:44:23.703098Z",
     "start_time": "2025-01-22T16:44:23.457842Z"
    }
   },
   "cell_type": "code",
   "source": [
    "# Store correlation metrics for easy access\n",
    "correlation_results_aqi = {}\n",
    "\n",
    "for park, data in greenspaces_cleaned.items():\n",
    "    pearson_corr, _ = pearsonr(data[\"NDVI\"], data[\"AQI\"])\n",
    "    spearman_corr, _ = spearmanr(data[\"NDVI\"], data[\"AQI\"])\n",
    "    kendall_corr, _ = kendalltau(data[\"NDVI\"], data[\"AQI\"])\n",
    "\n",
    "    correlation_results_aqi[park] = {\n",
    "        \"Pearson's Correlation\": pearson_corr,\n",
    "        \"Spearman's Correlation\": spearman_corr,\n",
    "        \"Kendall's Tau Correlation\": kendall_corr,\n",
    "    }\n",
    "\n",
    "    print(f\"{park} => Pearson: {pearson_corr:.2f}, Spearman: {spearman_corr:.2f}, Kendall: {kendall_corr:.2f}\")"
   ],
   "id": "dab1e2d470436dc0",
   "outputs": [
    {
     "name": "stdout",
     "output_type": "stream",
     "text": [
      "Vondelpark => Pearson: -0.04, Spearman: -0.17, Kendall: -0.11\n",
      "Westerpark => Pearson: 0.02, Spearman: -0.10, Kendall: -0.06\n",
      "Amstelpark => Pearson: 0.07, Spearman: -0.07, Kendall: -0.03\n",
      "Rembrandtpark => Pearson: 0.03, Spearman: -0.14, Kendall: -0.10\n"
     ]
    }
   ],
   "execution_count": 67
  },
  {
   "metadata": {
    "ExecuteTime": {
     "end_time": "2025-01-22T16:44:23.854760Z",
     "start_time": "2025-01-22T16:44:23.746653Z"
    }
   },
   "cell_type": "code",
   "source": [
    "# Visualizing correlation comparison across greenspaces\n",
    "correlation_values_aqi = {park: values[\"Pearson's Correlation\"] for park, values in correlation_results_aqi.items()}\n",
    "plt.bar(correlation_values_aqi.keys(), correlation_values_aqi.values())\n",
    "plt.ylabel('Pearson Correlation')\n",
    "plt.title('Correlation Comparison Across Greenspaces')\n",
    "plt.show()"
   ],
   "id": "a07e53711bee0fbd",
   "outputs": [
    {
     "data": {
      "text/plain": [
       "<Figure size 640x480 with 1 Axes>"
      ],
      "image/png": "[encoded data removed]"
     },
     "metadata": {},
     "output_type": "display_data"
    }
   ],
   "execution_count": 68
  },
  {
   "metadata": {
    "ExecuteTime": {
     "end_time": "2025-01-22T16:44:23.967519Z",
     "start_time": "2025-01-22T16:44:23.912133Z"
    }
   },
   "cell_type": "code",
   "source": [
    "# Visualizing correlation comparison across greenspaces\n",
    "correlation_values_aqi = {park: values[\"Spearman's Correlation\"] for park, values in correlation_results_aqi.items()}\n",
    "plt.bar(correlation_values_aqi.keys(), correlation_values_aqi.values())\n",
    "plt.ylabel('Spearman Correlation')\n",
    "plt.title('Correlation Comparison Across Greenspaces')\n",
    "plt.show()"
   ],
   "id": "13170ac45f5aaed0",
   "outputs": [
    {
     "data": {
      "text/plain": [
       "<Figure size 640x480 with 1 Axes>"
      ],
      "image/png": "[encoded data removed]"
     },
     "metadata": {},
     "output_type": "display_data"
    }
   ],
   "execution_count": 69
  },
  {
   "metadata": {
    "ExecuteTime": {
     "end_time": "2025-01-22T16:44:23.991199Z",
     "start_time": "2025-01-22T16:44:23.981544Z"
    }
   },
   "cell_type": "code",
   "source": [
    "# Perform Kruskal-Wallis test to compare correlations statistically\n",
    "all_correlations_aqi = [data[['NDVI', 'AQI']].corr().iloc[0, 1] for data in greenspaces_cleaned.values()]\n",
    "_, p_value = kruskal(*all_correlations_aqi)\n",
    "\n",
    "print(f\"Kruskal-Wallis Test p-value: {p_value:.4f}\")"
   ],
   "id": "11a68cce28134dd6",
   "outputs": [
    {
     "name": "stdout",
     "output_type": "stream",
     "text": [
      "Kruskal-Wallis Test p-value: 0.3916\n"
     ]
    }
   ],
   "execution_count": 70
  },
  {
   "metadata": {
    "ExecuteTime": {
     "end_time": "2025-01-22T16:44:24.007149Z",
     "start_time": "2025-01-22T16:44:24.005191Z"
    }
   },
   "cell_type": "code",
   "source": [
    "print(\"Mean correlation:\", np.mean(all_correlations_aqi))\n",
    "print(\"Standard deviation:\", np.std(all_correlations_aqi))"
   ],
   "id": "11b4152af0da2466",
   "outputs": [
    {
     "name": "stdout",
     "output_type": "stream",
     "text": [
      "Mean correlation: 0.01869319133791398\n",
      "Standard deviation: 0.04090666616681443\n"
     ]
    }
   ],
   "execution_count": 71
  },
  {
   "metadata": {},
   "cell_type": "markdown",
   "source": [
    "Interpretation of the Results:\n",
    "\n",
    "Since the p-value for the Kruskal-Wallis test is greater than the conventional significance threshold (0.05), we fail to reject the null hypothesis.\n",
    "This means that there is no statistically significant difference in the correlation values of NDVI and AQI across the greenspaces analyzed, as the correlation strength does not vary significantly between the parks. This could be due to the relative closeness of the parks themselves, which when coupled with the low resolution of the Sentinel-5P satellite makes it hard to compare these parks effectively.\n",
    "\n",
    "Regarding the correlations themselves, the values are relatively low across all greenspaces, as can be seen from the low mean correlation. There seems to be a slight negative correlation between NDVI and AQI, which indicates that a lower AQI will result in a higher NDVI. With more data (i.e., looking at more years and more parks) this relationship might be more pronounced.\n"
   ],
   "id": "ac6d557151d74962"
  },
  {
   "metadata": {},
   "cell_type": "markdown",
   "source": "# Comparison of Greenspaces - Soil Moisture",
   "id": "39a4b27e305d6209"
  },
  {
   "metadata": {},
   "cell_type": "markdown",
   "source": "Sentinel-1 (satellite used for Soil Moisture data) has a lower resolution than Sentinel-2 (satellite used for NDVI date). Therefore, values for soil moisture where matched with NDVI values according to the nearest coordinate. Important to note that there are some missing months when downloading the dataset from OpenEO, namely the 01, 09, 10, 11 and 12 months.",
   "id": "33b6d1e470468159"
  },
  {
   "metadata": {
    "ExecuteTime": {
     "end_time": "2025-01-22T16:44:24.022330Z",
     "start_time": "2025-01-22T16:44:24.020234Z"
    }
   },
   "cell_type": "code",
   "source": [
    "# Define file soil moisture and ndvi file paths for greenspaces\n",
    "greenspace_files_soil_moisture = {\n",
    "    \"Vondelpark\": {\n",
    "        \"NDVI\": \"Datasets/Sentinel-2/Vondel_NDVI/Vondel_NDVI_csv.csv\",\n",
    "        \"soil_moisture\": \"Datasets/Sentinel-1/Vondelpark/Vondel_SoilMoisture_csv.csv\",\n",
    "    },\n",
    "    \"Westerpark\": {\n",
    "        \"NDVI\": \"Datasets/Sentinel-2/Vondel_NDVI/Vondel_NDVI_csv.csv\",\n",
    "        \"soil_moisture\": \"Datasets/Sentinel-1/Westerpark/Wester_SoilMoisture_csv.csv\",\n",
    "    },\n",
    "    \"Amstelpark\": {\n",
    "        \"NDVI\": \"Datasets/Sentinel-2/Vondel_NDVI/Vondel_NDVI_csv.csv\",\n",
    "        \"soil_moisture\": \"Datasets/Sentinel-1/Amstelpark/Amstel_SoilMoisture_csv.csv\",\n",
    "    },\n",
    "    \"Rembrandtpark\": {\n",
    "        \"NDVI\": \"Datasets/Sentinel-2/Vondel_NDVI/Vondel_NDVI_csv.csv\",\n",
    "        \"soil_moisture\": \"Datasets/Sentinel-1/Rembrandtpark/Rembrandt_SoilMoisture_csv.csv\",\n",
    "    },\n",
    "}"
   ],
   "id": "6594e5fc0a04e1ec",
   "outputs": [],
   "execution_count": 72
  },
  {
   "metadata": {
    "ExecuteTime": {
     "end_time": "2025-01-22T16:44:24.040804Z",
     "start_time": "2025-01-22T16:44:24.038359Z"
    }
   },
   "cell_type": "code",
   "source": [
    "def process_soil_moisture_data(ndvi_path, soil_moisture_path):\n",
    "    \"\"\"\n",
    "    Function to process and merge soil moisture and NDVI data per greenspace\n",
    "\n",
    "    :param ndvi_path:\n",
    "    :param soil_moisture_path:\n",
    "    :return:\n",
    "    \"\"\"\n",
    "    ndvi_data = pd.read_csv(ndvi_path)\n",
    "    soil_moisture_data = pd.read_csv(soil_moisture_path)\n",
    "\n",
    "    merged_data = pd.merge(ndvi_data, soil_moisture_data, left_index=True, right_index=True, how=\"inner\")\n",
    "\n",
    "    return merged_data"
   ],
   "id": "3f94c27f5a08ff8a",
   "outputs": [],
   "execution_count": 73
  },
  {
   "metadata": {
    "ExecuteTime": {
     "end_time": "2025-01-22T16:44:24.531644Z",
     "start_time": "2025-01-22T16:44:24.067514Z"
    }
   },
   "cell_type": "code",
   "source": [
    "# Store all data of greenspaces in a dictionary for easy access\n",
    "greenspaces_data_soil_moisture = {}\n",
    "for park, paths in greenspace_files_soil_moisture.items():\n",
    "    greenspaces_data_soil_moisture[park] = process_soil_moisture_data(paths[\"NDVI\"], paths[\"soil_moisture\"])"
   ],
   "id": "61965aac37df74b",
   "outputs": [],
   "execution_count": 74
  },
  {
   "metadata": {
    "ExecuteTime": {
     "end_time": "2025-01-22T16:44:24.703529Z",
     "start_time": "2025-01-22T16:44:24.548008Z"
    }
   },
   "cell_type": "code",
   "source": [
    "# Function to load and clean each greenspace dataset\n",
    "def clean_merged_data(merged_data):\n",
    "    \"\"\"\n",
    "    Function to clean merged data and apply a cumulative cut-off range, preparing it for statistical testing\n",
    "\n",
    "    :param merged_csv:\n",
    "    :return:\n",
    "    \"\"\"\n",
    "\n",
    "    # Drop missing values\n",
    "    df_cleaned = merged_data.copy().dropna()\n",
    "\n",
    "    # Combine coordinate and date columns\n",
    "    df_cleaned.loc[:, 'Date'] = df_cleaned['Date_x'].combine_first(df_cleaned['Date_y'])\n",
    "    df_cleaned.loc[:, 'Coordinates'] = df_cleaned['Coordinates_x'].combine_first(df_cleaned['Coordinates_y'])\n",
    "\n",
    "    # Drop redundant columns\n",
    "    df_cleaned.drop(columns=['Date_x', 'Date_y', 'Coordinates_x', 'Coordinates_y'], inplace=True)\n",
    "\n",
    "    # Rename Value columns to NDVI and AQI\n",
    "    df_cleaned.rename(columns={'Value_x': 'NDVI', 'Value_y': 'Soil_Moisture'}, inplace=True)\n",
    "\n",
    "    # Apply cumulative filtering to remove outliers\n",
    "    ndvi_data = df_cleaned['NDVI'].copy()\n",
    "    sorted_ndvi_data = ndvi_data.sort_values().reset_index(drop=True)\n",
    "\n",
    "    # Calculate cumulative percentages\n",
    "    cumulative_percentage = sorted_ndvi_data.rank(pct=True)\n",
    "\n",
    "    # Define cut-off range\n",
    "    lower_cut = 0.02\n",
    "    upper_cut = 0.98\n",
    "\n",
    "    # Filter NDVI values within range\n",
    "    filtered_NDVI_data = sorted_ndvi_data[\n",
    "        (cumulative_percentage >= lower_cut) &\n",
    "        (cumulative_percentage <= upper_cut)\n",
    "        ]\n",
    "\n",
    "    lower_cut_value = filtered_NDVI_data.min()\n",
    "    upper_cut_value = filtered_NDVI_data.max()\n",
    "\n",
    "    df_final = df_cleaned[\n",
    "        (df_cleaned['NDVI'] >= lower_cut_value) &\n",
    "        (df_cleaned['NDVI'] <= upper_cut_value)\n",
    "        ]\n",
    "\n",
    "    return df_final\n",
    "\n",
    "# Apply cleaning function\n",
    "greenspaces_cleaned_soil_moisture = {park: clean_merged_data(data) for park, data in greenspaces_data_soil_moisture.items()}"
   ],
   "id": "76b7be9562094245",
   "outputs": [],
   "execution_count": 75
  },
  {
   "metadata": {
    "ExecuteTime": {
     "end_time": "2025-01-22T16:44:24.884167Z",
     "start_time": "2025-01-22T16:44:24.708366Z"
    }
   },
   "cell_type": "code",
   "source": [
    "correlation_results_soil_moisture = {}\n",
    "\n",
    "for park, data in greenspaces_cleaned_soil_moisture.items():\n",
    "    ndvi_values = data['NDVI']\n",
    "    soil_moisture_values = data['Soil_Moisture']\n",
    "\n",
    "    pearson_corr, _ = pearsonr(ndvi_values, soil_moisture_values)\n",
    "    spearman_corr, _ = spearmanr(ndvi_values, soil_moisture_values)\n",
    "    kendall_corr, _ = kendalltau(ndvi_values, soil_moisture_values)\n",
    "\n",
    "    correlation_results_soil_moisture[park] = {\n",
    "        \"Pearson\": pearson_corr,\n",
    "        \"Spearman\": spearman_corr,\n",
    "        \"Kendall\": kendall_corr\n",
    "    }\n",
    "\n",
    "    print(f\"{park} - Pearson: {pearson_corr:.2f}, Spearman: {spearman_corr:.2f}, Kendall: {kendall_corr:.2f}\")"
   ],
   "id": "aafa73b65611c7a5",
   "outputs": [
    {
     "name": "stdout",
     "output_type": "stream",
     "text": [
      "Vondelpark - Pearson: -0.10, Spearman: -0.34, Kendall: -0.23\n",
      "Westerpark - Pearson: 0.00, Spearman: 0.03, Kendall: 0.02\n",
      "Amstelpark - Pearson: -0.06, Spearman: -0.08, Kendall: -0.05\n",
      "Rembrandtpark - Pearson: -0.00, Spearman: 0.08, Kendall: 0.05\n"
     ]
    }
   ],
   "execution_count": 76
  },
  {
   "metadata": {
    "ExecuteTime": {
     "end_time": "2025-01-22T16:44:25.032424Z",
     "start_time": "2025-01-22T16:44:24.943268Z"
    }
   },
   "cell_type": "code",
   "source": [
    "# Plot Pearson Correlations\n",
    "parks = list(correlation_results_soil_moisture.keys())\n",
    "pearson_values = [correlation_results_soil_moisture[park][\"Pearson\"] for park in parks]\n",
    "\n",
    "plt.bar(parks, pearson_values, alpha=0.7)\n",
    "plt.ylabel(\"Pearson Correlation\")\n",
    "plt.title(\"Correlation Comparison Across Greenspaces (Pearson)\")\n",
    "plt.show()"
   ],
   "id": "1ab218912e5ce89e",
   "outputs": [
    {
     "data": {
      "text/plain": [
       "<Figure size 640x480 with 1 Axes>"
      ],
      "image/png": "[encoded data removed]"
     },
     "metadata": {},
     "output_type": "display_data"
    }
   ],
   "execution_count": 77
  },
  {
   "metadata": {
    "ExecuteTime": {
     "end_time": "2025-01-22T16:44:25.130310Z",
     "start_time": "2025-01-22T16:44:25.039706Z"
    }
   },
   "cell_type": "code",
   "source": [
    "# Plot Spearman Correlations\n",
    "spearman_values = [correlation_results_soil_moisture[park][\"Spearman\"] for park in parks]\n",
    "\n",
    "plt.bar(parks, spearman_values, alpha=0.7)\n",
    "plt.ylabel(\"Spearman Correlation\")\n",
    "plt.title(\"Correlation Comparison Across Greenspaces (Spearman)\")\n",
    "plt.show()"
   ],
   "id": "eb3274563b903605",
   "outputs": [
    {
     "data": {
      "text/plain": [
       "<Figure size 640x480 with 1 Axes>"
      ],
      "image/png": "[encoded data removed]"
     },
     "metadata": {},
     "output_type": "display_data"
    }
   ],
   "execution_count": 78
  },
  {
   "metadata": {
    "ExecuteTime": {
     "end_time": "2025-01-22T16:44:25.155243Z",
     "start_time": "2025-01-22T16:44:25.146690Z"
    }
   },
   "cell_type": "code",
   "source": [
    "# Prepare the correlation values for statistical testing\n",
    "all_correlations = [data[['NDVI', 'Soil_Moisture']].corr().iloc[0, 1] for data in greenspaces_cleaned_soil_moisture.values()]\n",
    "\n",
    "# Kruskal-Wallis test\n",
    "_, p_value = kruskal(*all_correlations)\n",
    "\n",
    "print(f\"Kruskal-Wallis Test p-value: {p_value:.4f}\")\n",
    "\n",
    "if p_value < 0.05:\n",
    "    print(\"Significant differences exist between greenspaces.\")\n",
    "else:\n",
    "    print(\"No significant differences between greenspaces.\")"
   ],
   "id": "68d4f3acc54191df",
   "outputs": [
    {
     "name": "stdout",
     "output_type": "stream",
     "text": [
      "Kruskal-Wallis Test p-value: 0.3916\n",
      "No significant differences between greenspaces.\n"
     ]
    }
   ],
   "execution_count": 79
  },
  {
   "metadata": {
    "ExecuteTime": {
     "end_time": "2025-01-22T16:44:25.178512Z",
     "start_time": "2025-01-22T16:44:25.175410Z"
    }
   },
   "cell_type": "code",
   "source": [
    "# Calculate mean and standard deviation of Pearson correlations\n",
    "pearson_mean = np.mean(pearson_values)\n",
    "pearson_std = np.std(pearson_values)\n",
    "\n",
    "print(f\"Mean Pearson Correlation: {pearson_mean:.4f}\")\n",
    "print(f\"Standard Deviation: {pearson_std:.4f}\")"
   ],
   "id": "183b380437ec4c81",
   "outputs": [
    {
     "name": "stdout",
     "output_type": "stream",
     "text": [
      "Mean Pearson Correlation: -0.0397\n",
      "Standard Deviation: 0.0424\n"
     ]
    }
   ],
   "execution_count": 80
  },
  {
   "metadata": {},
   "cell_type": "markdown",
   "source": [
    "Interpretation of the Results:\n",
    "\n",
    "There are no statistically significant differences in the correlation values of soil moisture and NDVI across the four greenspaces. This suggests that the relationship between soil moisture and NDVI remains relatively consistent across all locations.\n",
    "\n",
    "Vondelpark shows much stronger negative correlation when compared to the other greenspaces. This makes sense as the bounding box for Vondelpark involved urban areas, and thus is evident that soil moisture is an important component for vegetation health. The negative mean correlation suggests a general inverse relationship between soil moisture and NDVI across the greenspaces. The standard deviation indicates moderate variability in the correlation across different locations, implying that the strength of the relationship varies but not drastically. The visualizations confirm that while Amstelpark has a weak positive correlation, the other greenspaces show a tendency for NDVI to decrease as soil moisture increases.\n",
    "\n"
   ],
   "id": "7dc84a133e80e521"
  },
  {
   "metadata": {},
   "cell_type": "markdown",
   "source": "# Comparison of Green Spaces - Land Surface Temperature",
   "id": "96fec147b2686176"
  },
  {
   "metadata": {},
   "cell_type": "markdown",
   "source": "Sentinel-3 (satellite used for Land Temperature data) has a lower resolution than Sentinel-2 (satellite used for NDVI date). Therefore, values for soil moisture where matched with NDVI values according to the nearest coordinate. Important to note that some months are missing from the data, namely 08, 09 and 10",
   "id": "117cbc9bfbf6ee00"
  },
  {
   "metadata": {
    "ExecuteTime": {
     "end_time": "2025-01-22T16:44:25.197722Z",
     "start_time": "2025-01-22T16:44:25.194061Z"
    }
   },
   "cell_type": "code",
   "source": [
    "# Define file land surface temperature and ndvi file paths for greenspaces\n",
    "greenspace_files_land_temp = {\n",
    "    \"Vondelpark\": {\n",
    "        \"NDVI\": \"Datasets/Sentinel-2/Vondel_NDVI/Vondel_NDVI_csv.csv\",\n",
    "        \"land_temp\": \"Datasets/Sentinel-3/Vondelpark/Vondel_LandTemp_csv.csv\",\n",
    "    },\n",
    "    \"Westerpark\": {\n",
    "        \"NDVI\": \"Datasets/Sentinel-2/Vondel_NDVI/Vondel_NDVI_csv.csv\",\n",
    "        \"land_temp\": \"Datasets/Sentinel-3/Westerpark/Wester_LandTemp_csv.csv\",\n",
    "    },\n",
    "    \"Amstelpark\": {\n",
    "        \"NDVI\": \"Datasets/Sentinel-2/Vondel_NDVI/Vondel_NDVI_csv.csv\",\n",
    "        \"land_temp\": \"Datasets/Sentinel-3/Amstelpark/Amstel_LandTemp_csv.csv\",\n",
    "    },\n",
    "    \"Rembrandtpark\": {\n",
    "        \"NDVI\": \"Datasets/Sentinel-2/Vondel_NDVI/Vondel_NDVI_csv.csv\",\n",
    "        \"land_temp\": \"Datasets/Sentinel-3/Rembrandtpark/Rembrandt_LandTemp_csv.csv\",\n",
    "    },\n",
    "}"
   ],
   "id": "b77d49fb06749a05",
   "outputs": [],
   "execution_count": 81
  },
  {
   "metadata": {
    "ExecuteTime": {
     "end_time": "2025-01-22T16:44:25.222346Z",
     "start_time": "2025-01-22T16:44:25.220324Z"
    }
   },
   "cell_type": "code",
   "source": [
    "def process_land_temp_data(ndvi_path, land_temp_path):\n",
    "    \"\"\"\n",
    "    Function to process and merge land temperature and NDVI data per greenspace\n",
    "\n",
    "    :param ndvi_path:\n",
    "    :param land_temp_path:\n",
    "    :return:\n",
    "    \"\"\"\n",
    "    ndvi_data = pd.read_csv(ndvi_path)\n",
    "    soil_moisture_data = pd.read_csv(land_temp_path)\n",
    "\n",
    "    merged_data = pd.merge(ndvi_data, soil_moisture_data, left_index=True, right_index=True, how=\"inner\")\n",
    "\n",
    "    return merged_data"
   ],
   "id": "62aacd0ebfe2b714",
   "outputs": [],
   "execution_count": 82
  },
  {
   "metadata": {
    "ExecuteTime": {
     "end_time": "2025-01-22T16:44:25.708884Z",
     "start_time": "2025-01-22T16:44:25.258871Z"
    }
   },
   "cell_type": "code",
   "source": [
    "# Store all data of greenspaces in a dictionary for easy access\n",
    "greenspaces_data_land_temperature = {}\n",
    "for park, paths in greenspace_files_land_temp.items():\n",
    "    greenspaces_data_land_temperature[park] = process_land_temp_data(paths[\"NDVI\"], paths[\"land_temp\"])"
   ],
   "id": "4e1b226073c54df7",
   "outputs": [],
   "execution_count": 83
  },
  {
   "metadata": {
    "ExecuteTime": {
     "end_time": "2025-01-22T16:44:25.900054Z",
     "start_time": "2025-01-22T16:44:25.712587Z"
    }
   },
   "cell_type": "code",
   "source": [
    "# Function to load and clean each greenspace dataset\n",
    "def clean_merged_data(merged_data):\n",
    "    \"\"\"\n",
    "    Function to clean merged data and apply a cumulative cut-off range, preparing it for statistical testing\n",
    "\n",
    "    :param merged_csv:\n",
    "    :return:\n",
    "    \"\"\"\n",
    "\n",
    "    # Drop missing values\n",
    "    df_cleaned = merged_data.copy().dropna()\n",
    "\n",
    "    # Combine coordinate and date columns\n",
    "    df_cleaned.loc[:, 'Date'] = df_cleaned['Date_x'].combine_first(df_cleaned['Date_y'])\n",
    "    df_cleaned.loc[:, 'Coordinates'] = df_cleaned['Coordinates_x'].combine_first(df_cleaned['Coordinates_y'])\n",
    "\n",
    "    # Drop redundant columns\n",
    "    df_cleaned.drop(columns=['Date_x', 'Date_y', 'Coordinates_x', 'Coordinates_y'], inplace=True)\n",
    "\n",
    "    # Rename Value columns to NDVI and AQI\n",
    "    df_cleaned.rename(columns={'Value_x': 'NDVI', 'Value_y': 'Land_Temp'}, inplace=True)\n",
    "\n",
    "    # Apply cumulative filtering to remove outliers\n",
    "    ndvi_data = df_cleaned['NDVI'].copy()\n",
    "    sorted_ndvi_data = ndvi_data.sort_values().reset_index(drop=True)\n",
    "\n",
    "    # Calculate cumulative percentages\n",
    "    cumulative_percentage = sorted_ndvi_data.rank(pct=True)\n",
    "\n",
    "    # Define cut-off range\n",
    "    lower_cut = 0.02\n",
    "    upper_cut = 0.98\n",
    "\n",
    "    # Filter NDVI values within range\n",
    "    filtered_NDVI_data = sorted_ndvi_data[\n",
    "        (cumulative_percentage >= lower_cut) &\n",
    "        (cumulative_percentage <= upper_cut)\n",
    "        ]\n",
    "\n",
    "    lower_cut_value = filtered_NDVI_data.min()\n",
    "    upper_cut_value = filtered_NDVI_data.max()\n",
    "\n",
    "    df_final = df_cleaned[\n",
    "        (df_cleaned['NDVI'] >= lower_cut_value) &\n",
    "        (df_cleaned['NDVI'] <= upper_cut_value)\n",
    "        ]\n",
    "\n",
    "    return df_final\n",
    "\n",
    "# Apply cleaning function\n",
    "greenspaces_cleaned_land_temperature = {park: clean_merged_data(data) for park, data in greenspaces_data_land_temperature.items()}"
   ],
   "id": "db0a7c9e964137f",
   "outputs": [],
   "execution_count": 84
  },
  {
   "metadata": {
    "ExecuteTime": {
     "end_time": "2025-01-22T16:44:26.080558Z",
     "start_time": "2025-01-22T16:44:25.916904Z"
    }
   },
   "cell_type": "code",
   "source": [
    "correlation_results_land_temp = {}\n",
    "\n",
    "for park, data in greenspaces_cleaned_land_temperature.items():\n",
    "    ndvi_values = data['NDVI']\n",
    "    land_temp_values = data['Land_Temp']\n",
    "\n",
    "    pearson_corr, _ = pearsonr(ndvi_values, land_temp_values)\n",
    "    spearman_corr, _ = spearmanr(ndvi_values, land_temp_values)\n",
    "    kendall_corr, _ = kendalltau(ndvi_values, land_temp_values)\n",
    "\n",
    "    correlation_results_land_temp[park] = {\n",
    "        \"Pearson\": pearson_corr,\n",
    "        \"Spearman\": spearman_corr,\n",
    "        \"Kendall\": kendall_corr\n",
    "    }\n",
    "\n",
    "    print(f\"{park} - Pearson: {pearson_corr:.2f}, Spearman: {spearman_corr:.2f}, Kendall: {kendall_corr:.2f}\")"
   ],
   "id": "39c11f1d2bb919af",
   "outputs": [
    {
     "name": "stdout",
     "output_type": "stream",
     "text": [
      "Vondelpark - Pearson: 0.62, Spearman: 0.66, Kendall: 0.47\n",
      "Westerpark - Pearson: -0.26, Spearman: -0.32, Kendall: -0.19\n",
      "Amstelpark - Pearson: 0.15, Spearman: 0.25, Kendall: 0.18\n",
      "Rembrandtpark - Pearson: -0.46, Spearman: -0.50, Kendall: -0.32\n"
     ]
    }
   ],
   "execution_count": 85
  },
  {
   "metadata": {
    "ExecuteTime": {
     "end_time": "2025-01-22T16:44:26.257858Z",
     "start_time": "2025-01-22T16:44:26.182649Z"
    }
   },
   "cell_type": "code",
   "source": [
    "# Plot Pearson Correlations\n",
    "parks = list(correlation_results_land_temp.keys())\n",
    "pearson_values = [correlation_results_land_temp[park][\"Pearson\"] for park in parks]\n",
    "\n",
    "plt.bar(parks, pearson_values, alpha=0.7)\n",
    "plt.ylabel(\"Pearson Correlation\")\n",
    "plt.title(\"Correlation Comparison Across Greenspaces (Pearson)\")\n",
    "plt.show()"
   ],
   "id": "b39d2cb4094ab5d1",
   "outputs": [
    {
     "data": {
      "text/plain": [
       "<Figure size 640x480 with 1 Axes>"
      ],
      "image/png": "[encoded data removed]"
     },
     "metadata": {},
     "output_type": "display_data"
    }
   ],
   "execution_count": 86
  },
  {
   "metadata": {
    "ExecuteTime": {
     "end_time": "2025-01-22T16:44:26.331326Z",
     "start_time": "2025-01-22T16:44:26.322428Z"
    }
   },
   "cell_type": "code",
   "source": [
    "# Prepare the correlation values for statistical testing\n",
    "all_correlations = [data[['NDVI', 'Land_Temp']].corr().iloc[0, 1] for data in greenspaces_cleaned_land_temperature.values()]\n",
    "\n",
    "# Kruskal-Wallis test\n",
    "_, p_value = kruskal(*all_correlations)\n",
    "\n",
    "print(f\"Kruskal-Wallis Test p-value: {p_value:.4f}\")\n",
    "\n",
    "if p_value < 0.05:\n",
    "    print(\"Significant differences exist between greenspaces.\")\n",
    "else:\n",
    "    print(\"No significant differences between greenspaces.\")"
   ],
   "id": "b851d04db4b6dbfb",
   "outputs": [
    {
     "name": "stdout",
     "output_type": "stream",
     "text": [
      "Kruskal-Wallis Test p-value: 0.3916\n",
      "No significant differences between greenspaces.\n"
     ]
    }
   ],
   "execution_count": 87
  },
  {
   "metadata": {
    "ExecuteTime": {
     "end_time": "2025-01-22T16:45:02.139117Z",
     "start_time": "2025-01-22T16:45:02.130754Z"
    }
   },
   "cell_type": "code",
   "source": [
    "# Calculate mean and standard deviation of Pearson correlations\n",
    "pearson_mean = np.mean(pearson_values)\n",
    "pearson_std = np.std(pearson_values)\n",
    "\n",
    "print(f\"Mean Pearson Correlation: {pearson_mean:.4f}\")\n",
    "print(f\"Standard Deviation: {pearson_std:.4f}\")"
   ],
   "id": "941118524e4ee9a9",
   "outputs": [
    {
     "name": "stdout",
     "output_type": "stream",
     "text": [
      "Mean Pearson Correlation: 0.0124\n",
      "Standard Deviation: 0.4135\n"
     ]
    }
   ],
   "execution_count": 89
  },
  {
   "metadata": {},
   "cell_type": "markdown",
   "source": [
    "Interpretation of Results:\n",
    "\n",
    "The Kruskal-Wallis test results indicate no statistically significant differences in the correlation values of NDVI and land surface temperature across the analyzed greenspaces. This suggests that the relationship between these factors is relatively consistent across locations. The correlation values show variation, with some parks exhibiting a moderate positive relationship, while others show a negative trend. This variability could be influenced by localized environmental factors and differences in park characteristics. Expanding the dataset across different seasons and additional locations may help clarify these patterns and provide deeper insights.\n",
    "\n",
    "The results suggest that the influence that LST has on NDVI is varies per greenspace. Factors such as vegetation type, shading effects, and microclimates could influence this correlation. LST might have a lagged effect on vegetation health, meaning short-term changes in temperature may not immediately reflect in NDVI values.  With more data (i.e., looking at more years and more parks) this relationship might be able to be investigated further. Also, important to note that the vondel park greenspace does contain some urban areas in its bounding box, and this is the one that shows the greater correlation\n"
   ],
   "id": "84f6255416d922d3"
  }
 ],
 "metadata": {
  "kernelspec": {
   "display_name": "Python 3 (ipykernel)",
   "language": "python",
   "name": "python3"
  },
  "language_info": {
   "codemirror_mode": {
    "name": "ipython",
    "version": 3
   },
   "file_extension": ".py",
   "mimetype": "text/x-python",
   "name": "python",
   "nbconvert_exporter": "python",
   "pygments_lexer": "ipython3",
   "version": "3.12.4"
  }
 },
 "nbformat": 4,
 "nbformat_minor": 5
}
