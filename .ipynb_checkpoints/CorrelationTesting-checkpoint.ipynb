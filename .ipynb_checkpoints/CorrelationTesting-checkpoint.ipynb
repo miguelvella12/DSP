{
 "cells": [
  {
   "cell_type": "code",
   "id": "initial_id",
   "metadata": {
    "collapsed": true,
    "ExecuteTime": {
     "end_time": "2025-01-20T17:12:52.211018Z",
     "start_time": "2025-01-20T17:12:52.209467Z"
    }
   },
   "source": [
    "import pandas as pd\n",
    "import numpy as np\n",
    "from scipy.stats import pearsonr, spearmanr, kendalltau\n",
    "import matplotlib.pyplot as plt"
   ],
   "outputs": [],
   "execution_count": 1
  },
  {
   "metadata": {},
   "cell_type": "markdown",
   "source": "# Vondelpark",
   "id": "dbeb8e6edff71b85"
  },
  {
   "metadata": {
    "ExecuteTime": {
     "end_time": "2025-01-20T17:12:52.353697Z",
     "start_time": "2025-01-20T17:12:52.218609Z"
    }
   },
   "cell_type": "code",
   "source": [
    "# Load data from Sentinel-2 (NDVI) and Sentinel-5P (AQI)\n",
    "Vondel_NDVI_csv = pd.read_csv(\"Datasets/Sentinel-2/Vondel_NDVI/Vondel_NDVI_csv.csv\")\n",
    "Vondel_AQI_csv = pd.read_csv(\"Datasets/Sentinel-5P/Vondelpark/Vondel_AirQualityIndex/Vondel_AirQualityIndex_csv.csv\")"
   ],
   "id": "fbe5537f50460e0",
   "outputs": [],
   "execution_count": 2
  },
  {
   "metadata": {
    "ExecuteTime": {
     "end_time": "2025-01-20T17:12:52.423877Z",
     "start_time": "2025-01-20T17:12:52.417100Z"
    }
   },
   "cell_type": "code",
   "source": [
    "# Check data structure\n",
    "Vondel_NDVI_csv"
   ],
   "id": "a61dd0636abf4074",
   "outputs": [
    {
     "data": {
      "text/plain": [
       "              Date          Coordinates     Value\n",
       "0       2024-03-01  626205.0, 5802955.0  0.074513\n",
       "1       2024-03-01  626215.0, 5802955.0  0.072915\n",
       "2       2024-03-01  626225.0, 5802955.0  0.071516\n",
       "3       2024-03-01  626235.0, 5802955.0  0.068068\n",
       "4       2024-03-01  626245.0, 5802955.0  0.061473\n",
       "...            ...                  ...       ...\n",
       "271195  2024-06-01  628155.0, 5801835.0  0.184967\n",
       "271196  2024-06-01  628165.0, 5801835.0  0.153550\n",
       "271197  2024-06-01  628175.0, 5801835.0  0.182766\n",
       "271198  2024-06-01  628185.0, 5801835.0  0.143232\n",
       "271199  2024-06-01  628195.0, 5801835.0  0.115349\n",
       "\n",
       "[271200 rows x 3 columns]"
      ],
      "text/html": [
       "<div>\n",
       "<style scoped>\n",
       "    .dataframe tbody tr th:only-of-type {\n",
       "        vertical-align: middle;\n",
       "    }\n",
       "\n",
       "    .dataframe tbody tr th {\n",
       "        vertical-align: top;\n",
       "    }\n",
       "\n",
       "    .dataframe thead th {\n",
       "        text-align: right;\n",
       "    }\n",
       "</style>\n",
       "<table border=\"1\" class=\"dataframe\">\n",
       "  <thead>\n",
       "    <tr style=\"text-align: right;\">\n",
       "      <th></th>\n",
       "      <th>Date</th>\n",
       "      <th>Coordinates</th>\n",
       "      <th>Value</th>\n",
       "    </tr>\n",
       "  </thead>\n",
       "  <tbody>\n",
       "    <tr>\n",
       "      <th>0</th>\n",
       "      <td>2024-03-01</td>\n",
       "      <td>626205.0, 5802955.0</td>\n",
       "      <td>0.074513</td>\n",
       "    </tr>\n",
       "    <tr>\n",
       "      <th>1</th>\n",
       "      <td>2024-03-01</td>\n",
       "      <td>626215.0, 5802955.0</td>\n",
       "      <td>0.072915</td>\n",
       "    </tr>\n",
       "    <tr>\n",
       "      <th>2</th>\n",
       "      <td>2024-03-01</td>\n",
       "      <td>626225.0, 5802955.0</td>\n",
       "      <td>0.071516</td>\n",
       "    </tr>\n",
       "    <tr>\n",
       "      <th>3</th>\n",
       "      <td>2024-03-01</td>\n",
       "      <td>626235.0, 5802955.0</td>\n",
       "      <td>0.068068</td>\n",
       "    </tr>\n",
       "    <tr>\n",
       "      <th>4</th>\n",
       "      <td>2024-03-01</td>\n",
       "      <td>626245.0, 5802955.0</td>\n",
       "      <td>0.061473</td>\n",
       "    </tr>\n",
       "    <tr>\n",
       "      <th>...</th>\n",
       "      <td>...</td>\n",
       "      <td>...</td>\n",
       "      <td>...</td>\n",
       "    </tr>\n",
       "    <tr>\n",
       "      <th>271195</th>\n",
       "      <td>2024-06-01</td>\n",
       "      <td>628155.0, 5801835.0</td>\n",
       "      <td>0.184967</td>\n",
       "    </tr>\n",
       "    <tr>\n",
       "      <th>271196</th>\n",
       "      <td>2024-06-01</td>\n",
       "      <td>628165.0, 5801835.0</td>\n",
       "      <td>0.153550</td>\n",
       "    </tr>\n",
       "    <tr>\n",
       "      <th>271197</th>\n",
       "      <td>2024-06-01</td>\n",
       "      <td>628175.0, 5801835.0</td>\n",
       "      <td>0.182766</td>\n",
       "    </tr>\n",
       "    <tr>\n",
       "      <th>271198</th>\n",
       "      <td>2024-06-01</td>\n",
       "      <td>628185.0, 5801835.0</td>\n",
       "      <td>0.143232</td>\n",
       "    </tr>\n",
       "    <tr>\n",
       "      <th>271199</th>\n",
       "      <td>2024-06-01</td>\n",
       "      <td>628195.0, 5801835.0</td>\n",
       "      <td>0.115349</td>\n",
       "    </tr>\n",
       "  </tbody>\n",
       "</table>\n",
       "<p>271200 rows × 3 columns</p>\n",
       "</div>"
      ]
     },
     "execution_count": 3,
     "metadata": {},
     "output_type": "execute_result"
    }
   ],
   "execution_count": 3
  },
  {
   "metadata": {
    "ExecuteTime": {
     "end_time": "2025-01-20T17:12:52.559947Z",
     "start_time": "2025-01-20T17:12:52.554882Z"
    }
   },
   "cell_type": "code",
   "source": [
    "# Check data structure\n",
    "Vondel_AQI_csv"
   ],
   "id": "4f2004dd0defc6d7",
   "outputs": [
    {
     "data": {
      "text/plain": [
       "              Date          Coordinates      Value\n",
       "0       2024-03-01  626205.0, 5802955.0  28.314556\n",
       "1       2024-03-01  626215.0, 5802955.0  28.314556\n",
       "2       2024-03-01  626225.0, 5802955.0  28.314556\n",
       "3       2024-03-01  626235.0, 5802955.0  28.314556\n",
       "4       2024-03-01  626245.0, 5802955.0  28.314556\n",
       "...            ...                  ...        ...\n",
       "271195  2024-06-01  628155.0, 5801835.0  22.487692\n",
       "271196  2024-06-01  628165.0, 5801835.0  22.487692\n",
       "271197  2024-06-01  628175.0, 5801835.0  22.487692\n",
       "271198  2024-06-01  628185.0, 5801835.0  22.487692\n",
       "271199  2024-06-01  628195.0, 5801835.0  22.487692\n",
       "\n",
       "[271200 rows x 3 columns]"
      ],
      "text/html": [
       "<div>\n",
       "<style scoped>\n",
       "    .dataframe tbody tr th:only-of-type {\n",
       "        vertical-align: middle;\n",
       "    }\n",
       "\n",
       "    .dataframe tbody tr th {\n",
       "        vertical-align: top;\n",
       "    }\n",
       "\n",
       "    .dataframe thead th {\n",
       "        text-align: right;\n",
       "    }\n",
       "</style>\n",
       "<table border=\"1\" class=\"dataframe\">\n",
       "  <thead>\n",
       "    <tr style=\"text-align: right;\">\n",
       "      <th></th>\n",
       "      <th>Date</th>\n",
       "      <th>Coordinates</th>\n",
       "      <th>Value</th>\n",
       "    </tr>\n",
       "  </thead>\n",
       "  <tbody>\n",
       "    <tr>\n",
       "      <th>0</th>\n",
       "      <td>2024-03-01</td>\n",
       "      <td>626205.0, 5802955.0</td>\n",
       "      <td>28.314556</td>\n",
       "    </tr>\n",
       "    <tr>\n",
       "      <th>1</th>\n",
       "      <td>2024-03-01</td>\n",
       "      <td>626215.0, 5802955.0</td>\n",
       "      <td>28.314556</td>\n",
       "    </tr>\n",
       "    <tr>\n",
       "      <th>2</th>\n",
       "      <td>2024-03-01</td>\n",
       "      <td>626225.0, 5802955.0</td>\n",
       "      <td>28.314556</td>\n",
       "    </tr>\n",
       "    <tr>\n",
       "      <th>3</th>\n",
       "      <td>2024-03-01</td>\n",
       "      <td>626235.0, 5802955.0</td>\n",
       "      <td>28.314556</td>\n",
       "    </tr>\n",
       "    <tr>\n",
       "      <th>4</th>\n",
       "      <td>2024-03-01</td>\n",
       "      <td>626245.0, 5802955.0</td>\n",
       "      <td>28.314556</td>\n",
       "    </tr>\n",
       "    <tr>\n",
       "      <th>...</th>\n",
       "      <td>...</td>\n",
       "      <td>...</td>\n",
       "      <td>...</td>\n",
       "    </tr>\n",
       "    <tr>\n",
       "      <th>271195</th>\n",
       "      <td>2024-06-01</td>\n",
       "      <td>628155.0, 5801835.0</td>\n",
       "      <td>22.487692</td>\n",
       "    </tr>\n",
       "    <tr>\n",
       "      <th>271196</th>\n",
       "      <td>2024-06-01</td>\n",
       "      <td>628165.0, 5801835.0</td>\n",
       "      <td>22.487692</td>\n",
       "    </tr>\n",
       "    <tr>\n",
       "      <th>271197</th>\n",
       "      <td>2024-06-01</td>\n",
       "      <td>628175.0, 5801835.0</td>\n",
       "      <td>22.487692</td>\n",
       "    </tr>\n",
       "    <tr>\n",
       "      <th>271198</th>\n",
       "      <td>2024-06-01</td>\n",
       "      <td>628185.0, 5801835.0</td>\n",
       "      <td>22.487692</td>\n",
       "    </tr>\n",
       "    <tr>\n",
       "      <th>271199</th>\n",
       "      <td>2024-06-01</td>\n",
       "      <td>628195.0, 5801835.0</td>\n",
       "      <td>22.487692</td>\n",
       "    </tr>\n",
       "  </tbody>\n",
       "</table>\n",
       "<p>271200 rows × 3 columns</p>\n",
       "</div>"
      ]
     },
     "execution_count": 4,
     "metadata": {},
     "output_type": "execute_result"
    }
   ],
   "execution_count": 4
  },
  {
   "metadata": {
    "ExecuteTime": {
     "end_time": "2025-01-20T17:12:52.610106Z",
     "start_time": "2025-01-20T17:12:52.606436Z"
    }
   },
   "cell_type": "code",
   "source": [
    "# Set index keys\n",
    "if Vondel_NDVI_csv.index.name != \"Date\":\n",
    "    Vondel_NDVI_csv.set_index('Date', inplace=True)\n",
    "\n",
    "if Vondel_AQI_csv.index.name != \"Date\":\n",
    "    Vondel_AQI_csv.set_index('Date', inplace=True)"
   ],
   "id": "b26b39a3b1c408d5",
   "outputs": [],
   "execution_count": 5
  },
  {
   "metadata": {
    "jupyter": {
     "is_executing": true
    },
    "ExecuteTime": {
     "start_time": "2025-01-20T17:12:52.684939Z"
    }
   },
   "cell_type": "code",
   "source": [
    "# Merge the two indices together on Date to ensure that Values are aligned\n",
    "Vondel_merged_csv = pd.merge(Vondel_NDVI_csv, Vondel_AQI_csv, left_index=True, right_index=True, how=\"inner\")\n",
    "Vondel_merged_csv"
   ],
   "id": "1928a5ed50d3d45",
   "outputs": [],
   "execution_count": null
  },
  {
   "metadata": {},
   "cell_type": "code",
   "source": [
    "# Cleaning merged .csv\n",
    "# Drop missing values\n",
    "Vondel_merged_csv_cleaned = Vondel_merged_csv.copy().dropna()\n",
    "\n",
    "# Combine Date columns\n",
    "Vondel_merged_csv_cleaned.loc[:, 'Date'] = Vondel_merged_csv_cleaned['Date_x'].combine_first(\n",
    "    Vondel_merged_csv_cleaned['Date_y']\n",
    ")\n",
    "\n",
    "# Combine Coordinates columns\n",
    "Vondel_merged_csv_cleaned.loc[:, 'Coordinates'] = Vondel_merged_csv_cleaned['Coordinates_x'].combine_first(\n",
    "    Vondel_merged_csv_cleaned['Coordinates_y']\n",
    ")\n",
    "\n",
    "# Drop redundant columns\n",
    "Vondel_merged_csv_cleaned.drop(columns=['Date_x', 'Date_y', 'Coordinates_x', 'Coordinates_y'], inplace=True)\n",
    "\n",
    "# Rename Value columns to NDVI and AQI\n",
    "Vondel_merged_csv_cleaned.rename(columns={'Value_x': 'NDVI', 'Value_y': 'AQI'}, inplace=True)\n",
    "\n",
    "Vondel_merged_csv_cleaned"
   ],
   "id": "16b75b93fc9974f8",
   "outputs": [],
   "execution_count": null
  },
  {
   "metadata": {},
   "cell_type": "code",
   "source": [
    "# Define 2% data cumulative cut-off from bottom and top of data\n",
    "# This is done to remove outliers and thus focus on central range of data\n",
    "\n",
    "# Get NDVI values and sort\n",
    "ndvi_data = Vondel_merged_csv_cleaned['NDVI'].copy()\n",
    "sorted_ndvi_data = ndvi_data.sort_values().reset_index(drop=True)\n",
    "\n",
    "# Calculate cumulative percentages\n",
    "cumulative_percentage = sorted_ndvi_data.rank(pct=True)\n",
    "\n",
    "# Define cumulative cut-off range (2% to 98%)\n",
    "lower_cut = 0.02 # 2%\n",
    "upper_cut = 0.98 # 98%\n",
    "\n",
    "# Filter NDVI values within the range\n",
    "filtered_NDVI_data = sorted_ndvi_data[\n",
    "    (cumulative_percentage >= lower_cut) &\n",
    "    (cumulative_percentage <= upper_cut)\n",
    "    ]"
   ],
   "id": "ecbcedd04edf804b",
   "outputs": [],
   "execution_count": null
  },
  {
   "metadata": {},
   "cell_type": "code",
   "source": [
    "# Set lower and upper values for NDVI\n",
    "lower_cut_value = filtered_NDVI_data.min()\n",
    "upper_cut_value = filtered_NDVI_data.max()\n",
    "\n",
    "# Keep rows where NDVI value is within range\n",
    "Vondel_merged_csv_final = Vondel_merged_csv_cleaned[\n",
    "    (Vondel_merged_csv_cleaned['NDVI'] >= lower_cut_value) &\n",
    "    (Vondel_merged_csv_cleaned['NDVI'] <= upper_cut_value)\n",
    "]\n",
    "\n",
    "Vondel_merged_csv_final"
   ],
   "id": "6f6bb2f3677ea06e",
   "outputs": [],
   "execution_count": null
  },
  {
   "metadata": {},
   "cell_type": "code",
   "source": [
    "# Conduct correlation tests\n",
    "Vondel_NDVI_Values = Vondel_merged_csv_final.loc[:, 'NDVI']\n",
    "Vondel_AQI_Values = Vondel_merged_csv_final.loc[:, 'AQI']\n",
    "\n",
    "pearson_corr, p_pearson = pearsonr(Vondel_NDVI_Values, Vondel_AQI_Values)\n",
    "spearman_corr, p_spearman = spearmanr(Vondel_NDVI_Values, Vondel_AQI_Values)\n",
    "kendall_corr, p_kendall = kendalltau(Vondel_NDVI_Values, Vondel_AQI_Values)\n",
    "\n",
    "print(\"Pearson's Correlation:\")\n",
    "print(f\"Coefficient: {pearson_corr:.4f}, p-value: {p_pearson:.4e}\")\n",
    "\n",
    "print(\"\\nSpearman's Correlation:\")\n",
    "print(f\"Coefficient: {spearman_corr:.4f}, p-value: {p_spearman:.4e}\")\n",
    "\n",
    "print(\"\\nKendall's Tau Correlation:\")\n",
    "print(f\"Coefficient: {kendall_corr:.4f}, p-value: {p_kendall:.4e}\")"
   ],
   "id": "9d057ba53ee4e137",
   "outputs": [],
   "execution_count": null
  },
  {
   "metadata": {},
   "cell_type": "code",
   "outputs": [],
   "execution_count": null,
   "source": [
    "plt.scatter(Vondel_NDVI_Values, Vondel_AQI_Values)\n",
    "plt.xlabel('NDVI')\n",
    "plt.ylabel('AQI')\n",
    "plt.title('Scatter Plot of AQI vs NDVI for Vondelpark')\n",
    "plt.show()"
   ],
   "id": "4f6c220aaa76b4ea"
  },
  {
   "metadata": {},
   "cell_type": "markdown",
   "source": "# Westerpark",
   "id": "e5148bedd01085bf"
  },
  {
   "metadata": {},
   "cell_type": "code",
   "outputs": [],
   "execution_count": null,
   "source": [
    "# Load data from Sentinel-2 (NDVI) and Sentinel-5P (AQI)\n",
    "Wester_NDVI_csv = pd.read_csv(\"Datasets/Sentinel-2/Wester_NDVI/Wester_NDVI_csv.csv\")\n",
    "Wester_AQI_csv = pd.read_csv(\"Datasets/Sentinel-5P/Westerpark/Wester_AirQualityIndex/Wester_AirQualityIndex_csv.csv\")"
   ],
   "id": "33e2c35a56302f1b"
  },
  {
   "metadata": {},
   "cell_type": "code",
   "outputs": [],
   "execution_count": null,
   "source": [
    "# Check data structure\n",
    "Wester_NDVI_csv"
   ],
   "id": "2a7ef53facb2581e"
  },
  {
   "metadata": {},
   "cell_type": "code",
   "outputs": [],
   "execution_count": null,
   "source": [
    "# Check data structure\n",
    "Wester_AQI_csv"
   ],
   "id": "6fd0300592e29311"
  },
  {
   "metadata": {},
   "cell_type": "code",
   "outputs": [],
   "execution_count": null,
   "source": [
    "# Set index keys\n",
    "if Wester_NDVI_csv.index.name != \"Date\":\n",
    "    Wester_NDVI_csv.set_index('Date', inplace=True)\n",
    "\n",
    "if Wester_AQI_csv.index.name != \"Date\":\n",
    "    Wester_AQI_csv.set_index('Date', inplace=True)"
   ],
   "id": "40783a1b513c38bd"
  },
  {
   "metadata": {},
   "cell_type": "code",
   "outputs": [],
   "execution_count": null,
   "source": [
    "# Merge the two indices together on Date to ensure that Values are aligned\n",
    "Wester_merged_csv = pd.merge(Wester_NDVI_csv, Wester_AQI_csv, left_index=True, right_index=True, how=\"inner\")\n",
    "Wester_merged_csv"
   ],
   "id": "83a89f04d3f0f6b7"
  },
  {
   "metadata": {},
   "cell_type": "code",
   "outputs": [],
   "execution_count": null,
   "source": [
    "# Cleaning merged .csv\n",
    "# Drop missing values\n",
    "Wester_merged_csv_cleaned = Wester_merged_csv.copy().dropna()\n",
    "\n",
    "# Combine Date columns\n",
    "Wester_merged_csv_cleaned.loc[:, 'Date'] = Wester_merged_csv_cleaned['Date_x'].combine_first(\n",
    "    Wester_merged_csv_cleaned['Date_y']\n",
    ")\n",
    "\n",
    "# Combine Coordinates columns\n",
    "Wester_merged_csv_cleaned.loc[:, 'Coordinates'] = Wester_merged_csv_cleaned['Coordinates_x'].combine_first(\n",
    "    Wester_merged_csv_cleaned['Coordinates_y']\n",
    ")\n",
    "\n",
    "# Drop redundant columns\n",
    "Wester_merged_csv_cleaned.drop(columns=['Date_x', 'Date_y', 'Coordinates_x', 'Coordinates_y'], inplace=True)\n",
    "\n",
    "# Rename Value columns to NDVI and AQI\n",
    "Wester_merged_csv_cleaned.rename(columns={'Value_x': 'NDVI', 'Value_y': 'AQI'}, inplace=True)\n",
    "\n",
    "Wester_merged_csv_cleaned"
   ],
   "id": "1c2422ae7704c6bb"
  },
  {
   "metadata": {},
   "cell_type": "code",
   "outputs": [],
   "execution_count": null,
   "source": [
    "# Define 2% data cumulative cut-off from bottom and top of data\n",
    "# This is done to remove outliers and thus focus on central range of data\n",
    "\n",
    "# Get NDVI values and sort\n",
    "ndvi_data = Wester_merged_csv_cleaned['NDVI'].copy()\n",
    "sorted_ndvi_data = ndvi_data.sort_values().reset_index(drop=True)\n",
    "\n",
    "# Calculate cumulative percentages\n",
    "cumulative_percentage = sorted_ndvi_data.rank(pct=True)\n",
    "\n",
    "# Define cumulative cut-off range (2% to 98%)\n",
    "lower_cut = 0.02  # 2%\n",
    "upper_cut = 0.98  # 98%\n",
    "\n",
    "# Filter NDVI values within the range\n",
    "filtered_NDVI_data = sorted_ndvi_data[\n",
    "    (cumulative_percentage >= lower_cut) &\n",
    "    (cumulative_percentage <= upper_cut)\n",
    "    ]"
   ],
   "id": "8756122be8429ca3"
  },
  {
   "metadata": {},
   "cell_type": "code",
   "outputs": [],
   "execution_count": null,
   "source": [
    "# Set lower and upper values for NDVI\n",
    "lower_cut_value = filtered_NDVI_data.min()\n",
    "upper_cut_value = filtered_NDVI_data.max()\n",
    "\n",
    "# Keep rows where NDVI value is within range\n",
    "Wester_merged_csv_final = Wester_merged_csv_cleaned[\n",
    "    (Wester_merged_csv_cleaned['NDVI'] >= lower_cut_value) &\n",
    "    (Wester_merged_csv_cleaned['NDVI'] <= upper_cut_value)\n",
    "    ]\n",
    "\n",
    "Wester_merged_csv_final"
   ],
   "id": "af80378ab1a0e647"
  },
  {
   "metadata": {},
   "cell_type": "code",
   "outputs": [],
   "execution_count": null,
   "source": [
    "# Conduct correlation tests\n",
    "Wester_NDVI_Values = Wester_merged_csv_final.loc[:, 'NDVI']\n",
    "Wester_AQI_Values = Wester_merged_csv_final.loc[:, 'AQI']\n",
    "\n",
    "pearson_corr, p_pearson = pearsonr(Wester_NDVI_Values, Wester_AQI_Values)\n",
    "spearman_corr, p_spearman = spearmanr(Wester_NDVI_Values, Wester_AQI_Values)\n",
    "kendall_corr, p_kendall = kendalltau(Wester_NDVI_Values, Wester_AQI_Values)\n",
    "\n",
    "print(\"Pearson's Correlation:\")\n",
    "print(f\"Coefficient: {pearson_corr:.4f}, p-value: {p_pearson:.4e}\")\n",
    "\n",
    "print(\"\\nSpearman's Correlation:\")\n",
    "print(f\"Coefficient: {spearman_corr:.4f}, p-value: {p_spearman:.4e}\")\n",
    "\n",
    "print(\"\\nKendall's Tau Correlation:\")\n",
    "print(f\"Coefficient: {kendall_corr:.4f}, p-value: {p_kendall:.4e}\")"
   ],
   "id": "18a29c929729690a"
  },
  {
   "metadata": {},
   "cell_type": "code",
   "outputs": [],
   "execution_count": null,
   "source": [
    "plt.scatter(Wester_NDVI_Values, Wester_AQI_Values)\n",
    "plt.xlabel('NDVI')\n",
    "plt.ylabel('AQI')\n",
    "plt.title('Scatter Plot of AQI vs NDVI for Westerpark')\n",
    "plt.show()"
   ],
   "id": "69de3c29db270b59"
  },
  {
   "metadata": {},
   "cell_type": "markdown",
   "source": "# Amstelpark",
   "id": "936a0390d716fdab"
  },
  {
   "metadata": {},
   "cell_type": "code",
   "outputs": [],
   "execution_count": null,
   "source": [
    "# Load data from Sentinel-2 (NDVI) and Sentinel-5P (AQI)\n",
    "Amstel_NDVI_csv = pd.read_csv(\"Datasets/Sentinel-2/Amstel_NDVI/Amstel_NDVI_csv.csv\")\n",
    "Amstel_AQI_csv = pd.read_csv(\"Datasets/Sentinel-5P/Amstelpark/Amstel_AirQualityIndex/Amstel_AirQualityIndex_csv.csv\")"
   ],
   "id": "f2f39557661f86ae"
  },
  {
   "metadata": {},
   "cell_type": "code",
   "outputs": [],
   "execution_count": null,
   "source": [
    "# Check data structure\n",
    "Amstel_NDVI_csv"
   ],
   "id": "dacbcbaf9dfcde74"
  },
  {
   "metadata": {},
   "cell_type": "code",
   "outputs": [],
   "execution_count": null,
   "source": [
    "# Check data structure\n",
    "Amstel_AQI_csv"
   ],
   "id": "2e44508e2417cf0f"
  },
  {
   "metadata": {},
   "cell_type": "code",
   "outputs": [],
   "execution_count": null,
   "source": [
    "# Set index keys\n",
    "if Amstel_NDVI_csv.index.name != \"Date\":\n",
    "    Amstel_NDVI_csv.set_index('Date', inplace=True)\n",
    "\n",
    "if Amstel_AQI_csv.index.name != \"Date\":\n",
    "    Amstel_AQI_csv.set_index('Date', inplace=True)"
   ],
   "id": "97169ccfad3f4ef7"
  },
  {
   "metadata": {},
   "cell_type": "code",
   "outputs": [],
   "execution_count": null,
   "source": [
    "# Merge the two indices together on Date to ensure that Values are aligned\n",
    "Amstel_merged_csv = pd.merge(Amstel_NDVI_csv, Amstel_AQI_csv, left_index=True, right_index=True, how=\"inner\")\n",
    "Amstel_merged_csv"
   ],
   "id": "c31b9611d32d8844"
  },
  {
   "metadata": {},
   "cell_type": "code",
   "outputs": [],
   "execution_count": null,
   "source": [
    "# Cleaning merged .csv\n",
    "# Drop missing values\n",
    "Amstel_merged_csv_cleaned = Amstel_merged_csv.copy().dropna()\n",
    "\n",
    "# Combine Date columns\n",
    "Amstel_merged_csv_cleaned.loc[:, 'Date'] = Amstel_merged_csv_cleaned['Date_x'].combine_first(\n",
    "    Amstel_merged_csv_cleaned['Date_y']\n",
    ")\n",
    "\n",
    "# Combine Coordinates columns\n",
    "Amstel_merged_csv_cleaned.loc[:, 'Coordinates'] = Amstel_merged_csv_cleaned['Coordinates_x'].combine_first(\n",
    "    Amstel_merged_csv_cleaned['Coordinates_y']\n",
    ")\n",
    "\n",
    "# Drop redundant columns\n",
    "Amstel_merged_csv_cleaned.drop(columns=['Date_x', 'Date_y', 'Coordinates_x', 'Coordinates_y'], inplace=True)\n",
    "\n",
    "# Rename Value columns to NDVI and AQI\n",
    "Amstel_merged_csv_cleaned.rename(columns={'Value_x': 'NDVI', 'Value_y': 'AQI'}, inplace=True)\n",
    "\n",
    "Amstel_merged_csv_cleaned"
   ],
   "id": "fd5bbd24172cb53a"
  },
  {
   "metadata": {},
   "cell_type": "code",
   "outputs": [],
   "execution_count": null,
   "source": [
    "# Define 2% data cumulative cut-off from bottom and top of data\n",
    "# This is done to remove outliers and thus focus on central range of data\n",
    "\n",
    "# Get NDVI values and sort\n",
    "ndvi_data = Amstel_merged_csv_cleaned['NDVI'].copy()\n",
    "sorted_ndvi_data = ndvi_data.sort_values().reset_index(drop=True)\n",
    "\n",
    "# Calculate cumulative percentages\n",
    "cumulative_percentage = sorted_ndvi_data.rank(pct=True)\n",
    "\n",
    "# Define cumulative cut-off range (2% to 98%)\n",
    "lower_cut = 0.02  # 2%\n",
    "upper_cut = 0.98  # 98%\n",
    "\n",
    "# Filter NDVI values within the range\n",
    "filtered_NDVI_data = sorted_ndvi_data[\n",
    "    (cumulative_percentage >= lower_cut) &\n",
    "    (cumulative_percentage <= upper_cut)\n",
    "    ]"
   ],
   "id": "8e4bd66dd2fa3219"
  },
  {
   "metadata": {},
   "cell_type": "code",
   "outputs": [],
   "execution_count": null,
   "source": [
    "# Set lower and upper values for NDVI\n",
    "lower_cut_value = filtered_NDVI_data.min()\n",
    "upper_cut_value = filtered_NDVI_data.max()\n",
    "\n",
    "# Keep rows where NDVI value is within range\n",
    "Amstel_merged_csv_final = Amstel_merged_csv_cleaned[\n",
    "    (Amstel_merged_csv_cleaned['NDVI'] >= lower_cut_value) &\n",
    "    (Amstel_merged_csv_cleaned['NDVI'] <= upper_cut_value)\n",
    "    ]\n",
    "\n",
    "Amstel_merged_csv_final"
   ],
   "id": "abb0fbb910249630"
  },
  {
   "metadata": {},
   "cell_type": "code",
   "outputs": [],
   "execution_count": null,
   "source": [
    "# Conduct correlation tests\n",
    "Amstel_NDVI_Values = Amstel_merged_csv_final.loc[:, 'NDVI']\n",
    "Amstel_AQI_Values = Amstel_merged_csv_final.loc[:, 'AQI']\n",
    "\n",
    "pearson_corr, p_pearson = pearsonr(Amstel_NDVI_Values, Amstel_AQI_Values)\n",
    "spearman_corr, p_spearman = spearmanr(Amstel_NDVI_Values, Amstel_AQI_Values)\n",
    "kendall_corr, p_kendall = kendalltau(Amstel_NDVI_Values, Amstel_AQI_Values)\n",
    "\n",
    "print(\"Pearson's Correlation:\")\n",
    "print(f\"Coefficient: {pearson_corr:.4f}, p-value: {p_pearson:.4e}\")\n",
    "\n",
    "print(\"\\nSpearman's Correlation:\")\n",
    "print(f\"Coefficient: {spearman_corr:.4f}, p-value: {p_spearman:.4e}\")\n",
    "\n",
    "print(\"\\nKendall's Tau Correlation:\")\n",
    "print(f\"Coefficient: {kendall_corr:.4f}, p-value: {p_kendall:.4e}\")"
   ],
   "id": "67042e1f400974e9"
  },
  {
   "metadata": {},
   "cell_type": "code",
   "outputs": [],
   "execution_count": null,
   "source": [
    "plt.scatter(Amstel_NDVI_Values, Amstel_AQI_Values)\n",
    "plt.xlabel('NDVI')\n",
    "plt.ylabel('AQI')\n",
    "plt.title('Scatter Plot of AQI vs NDVI for Amstelpark')\n",
    "plt.show()"
   ],
   "id": "46264db5ab41456c"
  },
  {
   "metadata": {},
   "cell_type": "markdown",
   "source": "# Rembrandtpark",
   "id": "86c78f4be54f1804"
  },
  {
   "metadata": {},
   "cell_type": "code",
   "outputs": [],
   "execution_count": null,
   "source": [
    "# Load data from Sentinel-2 (NDVI) and Sentinel-5P (AQI)\n",
    "Rembrandt_NDVI_csv = pd.read_csv(\"Datasets/Sentinel-2/Rembrandt_NDVI/Rembrandt_NDVI_csv.csv\")\n",
    "Rembrandt_AQI_csv = pd.read_csv(\"Datasets/Sentinel-5P/Rembrandtpark/Rembrandt_AirQualityIndex/Rembrandt_AirQualityIndex_csv.csv\")"
   ],
   "id": "eb80edfac49d4f0"
  },
  {
   "metadata": {},
   "cell_type": "code",
   "outputs": [],
   "execution_count": null,
   "source": [
    "# Check data structure\n",
    "Rembrandt_NDVI_csv"
   ],
   "id": "c63f6557172e4871"
  },
  {
   "metadata": {},
   "cell_type": "code",
   "outputs": [],
   "execution_count": null,
   "source": [
    "# Check data structure\n",
    "Rembrandt_AQI_csv"
   ],
   "id": "532bff371c54aec"
  },
  {
   "metadata": {},
   "cell_type": "code",
   "outputs": [],
   "execution_count": null,
   "source": [
    "# Set index keys\n",
    "if Rembrandt_NDVI_csv.index.name != \"Date\":\n",
    "    Rembrandt_NDVI_csv.set_index('Date', inplace=True)\n",
    "\n",
    "if Rembrandt_AQI_csv.index.name != \"Date\":\n",
    "    Rembrandt_AQI_csv.set_index('Date', inplace=True)"
   ],
   "id": "2a7e7410f09f5041"
  },
  {
   "metadata": {},
   "cell_type": "code",
   "outputs": [],
   "execution_count": null,
   "source": [
    "# Merge the two indices together on Date to ensure that Values are aligned\n",
    "Rembrandt_merged_csv = pd.merge(Rembrandt_NDVI_csv, Rembrandt_AQI_csv, left_index=True, right_index=True, how=\"inner\")\n",
    "Rembrandt_merged_csv"
   ],
   "id": "2fa4fb1ea7b737bf"
  },
  {
   "metadata": {},
   "cell_type": "code",
   "outputs": [],
   "execution_count": null,
   "source": [
    "# Cleaning merged .csv\n",
    "# Drop missing values\n",
    "Rembrandt_merged_csv_cleaned = Rembrandt_merged_csv.copy().dropna()\n",
    "\n",
    "# Combine Date columns\n",
    "Rembrandt_merged_csv_cleaned.loc[:, 'Date'] = Rembrandt_merged_csv_cleaned['Date_x'].combine_first(\n",
    "    Rembrandt_merged_csv_cleaned['Date_y']\n",
    ")\n",
    "\n",
    "# Combine Coordinates columns\n",
    "Rembrandt_merged_csv_cleaned.loc[:, 'Coordinates'] = Rembrandt_merged_csv_cleaned['Coordinates_x'].combine_first(\n",
    "    Rembrandt_merged_csv_cleaned['Coordinates_y']\n",
    ")\n",
    "\n",
    "# Drop redundant columns\n",
    "Rembrandt_merged_csv_cleaned.drop(columns=['Date_x', 'Date_y', 'Coordinates_x', 'Coordinates_y'], inplace=True)\n",
    "\n",
    "# Rename Value columns to NDVI and AQI\n",
    "Rembrandt_merged_csv_cleaned.rename(columns={'Value_x': 'NDVI', 'Value_y': 'AQI'}, inplace=True)\n",
    "\n",
    "Rembrandt_merged_csv_cleaned"
   ],
   "id": "fa8b147951df254"
  },
  {
   "metadata": {},
   "cell_type": "code",
   "outputs": [],
   "execution_count": null,
   "source": [
    "# Define 2% data cumulative cut-off from bottom and top of data\n",
    "# This is done to remove outliers and thus focus on central range of data\n",
    "\n",
    "# Get NDVI values and sort\n",
    "ndvi_data = Rembrandt_merged_csv_cleaned['NDVI'].copy()\n",
    "sorted_ndvi_data = ndvi_data.sort_values().reset_index(drop=True)\n",
    "\n",
    "# Calculate cumulative percentages\n",
    "cumulative_percentage = sorted_ndvi_data.rank(pct=True)\n",
    "\n",
    "# Define cumulative cut-off range (2% to 98%)\n",
    "lower_cut = 0.02  # 2%\n",
    "upper_cut = 0.98  # 98%\n",
    "\n",
    "# Filter NDVI values within the range\n",
    "filtered_NDVI_data = sorted_ndvi_data[\n",
    "    (cumulative_percentage >= lower_cut) &\n",
    "    (cumulative_percentage <= upper_cut)\n",
    "    ]"
   ],
   "id": "eeb707e41d1a0ab7"
  },
  {
   "metadata": {},
   "cell_type": "code",
   "outputs": [],
   "execution_count": null,
   "source": [
    "# Set lower and upper values for NDVI\n",
    "lower_cut_value = filtered_NDVI_data.min()\n",
    "upper_cut_value = filtered_NDVI_data.max()\n",
    "\n",
    "# Keep rows where NDVI value is within range\n",
    "Rembrandt_merged_csv_final = Rembrandt_merged_csv_cleaned[\n",
    "    (Rembrandt_merged_csv_cleaned['NDVI'] >= lower_cut_value) &\n",
    "    (Rembrandt_merged_csv_cleaned['NDVI'] <= upper_cut_value)\n",
    "    ]\n",
    "\n",
    "Rembrandt_merged_csv_final"
   ],
   "id": "ab2ffda164390d4a"
  },
  {
   "metadata": {},
   "cell_type": "code",
   "outputs": [],
   "execution_count": null,
   "source": [
    "# Conduct correlation tests\n",
    "Rembrandt_NDVI_Values = Rembrandt_merged_csv_final.loc[:, 'NDVI']\n",
    "Rembrandt_AQI_Values = Rembrandt_merged_csv_final.loc[:, 'AQI']\n",
    "\n",
    "pearson_corr, p_pearson = pearsonr(Rembrandt_NDVI_Values, Rembrandt_AQI_Values)\n",
    "spearman_corr, p_spearman = spearmanr(Rembrandt_NDVI_Values, Rembrandt_AQI_Values)\n",
    "kendall_corr, p_kendall = kendalltau(Rembrandt_NDVI_Values, Rembrandt_AQI_Values)\n",
    "\n",
    "print(\"Pearson's Correlation:\")\n",
    "print(f\"Coefficient: {pearson_corr:.4f}, p-value: {p_pearson:.4e}\")\n",
    "\n",
    "print(\"\\nSpearman's Correlation:\")\n",
    "print(f\"Coefficient: {spearman_corr:.4f}, p-value: {p_spearman:.4e}\")\n",
    "\n",
    "print(\"\\nKendall's Tau Correlation:\")\n",
    "print(f\"Coefficient: {kendall_corr:.4f}, p-value: {p_kendall:.4e}\")"
   ],
   "id": "88ba9e484a524f96"
  },
  {
   "metadata": {},
   "cell_type": "code",
   "outputs": [],
   "execution_count": null,
   "source": [
    "plt.scatter(Rembrandt_NDVI_Values, Rembrandt_AQI_Values)\n",
    "plt.xlabel('NDVI')\n",
    "plt.ylabel('AQI')\n",
    "plt.title('Scatter Plot of AQI vs NDVI for Rembrandt Park')\n",
    "plt.show()"
   ],
   "id": "de43ef2365ddd788"
  }
 ],
 "metadata": {
  "kernelspec": {
   "display_name": "Python 3 (ipykernel)",
   "language": "python",
   "name": "python3"
  },
  "language_info": {
   "codemirror_mode": {
    "name": "ipython",
    "version": 2
   },
   "file_extension": ".py",
   "mimetype": "text/x-python",
   "name": "python",
   "nbconvert_exporter": "python",
   "pygments_lexer": "ipython2",
   "version": "2.7.6"
  }
 },
 "nbformat": 4,
 "nbformat_minor": 5
}
